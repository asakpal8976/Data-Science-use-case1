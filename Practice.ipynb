{
 "cells": [
  {
   "cell_type": "code",
   "execution_count": 3,
   "id": "af0c0b7e-1eb5-4073-a46b-39f694985cda",
   "metadata": {},
   "outputs": [
    {
     "name": "stdin",
     "output_type": "stream",
     "text": [
      " anu89u\n"
     ]
    },
    {
     "name": "stdout",
     "output_type": "stream",
     "text": [
      "The input string anu89u has 4 letters and 2 digits\n"
     ]
    }
   ],
   "source": [
    "#Python program that accepts a string and calculates the number of digits and letters.\n",
    "user_input = input()\n",
    "\n",
    "letters = 0\n",
    "digits = 0\n",
    "\n",
    "for i in user_input:\n",
    "    if i.isdigit():\n",
    "        digits += 1\n",
    "    elif i.isalpha():\n",
    "        letters +=1\n",
    "\n",
    "print(\"The input string\",user_input, \"has\", letters, \"letters and\", digits,\"digits\")"
   ]
  },
  {
   "cell_type": "code",
   "execution_count": 5,
   "id": "44568c7e-936c-49ae-9a8f-23df10201524",
   "metadata": {},
   "outputs": [
    {
     "name": "stdout",
     "output_type": "stream",
     "text": [
      "dlroW olleH\n"
     ]
    }
   ],
   "source": [
    "#Python program that accepts a word from the user and reverses it.\n",
    "string = 'Hello World'\n",
    "reversed_string = ''\n",
    "\n",
    "for i in string:\n",
    "    reversed_string = i + reversed_string\n",
    "\n",
    "print(reversed_string)"
   ]
  },
  {
   "cell_type": "code",
   "execution_count": 1,
   "id": "5cabf58f-48f3-4e91-9db5-b38f3adc784b",
   "metadata": {},
   "outputs": [
    {
     "name": "stdin",
     "output_type": "stream",
     "text": [
      "Enter a String mom\n"
     ]
    },
    {
     "name": "stdout",
     "output_type": "stream",
     "text": [
      " string 'mom' is palindrome\n"
     ]
    }
   ],
   "source": [
    "# palindrome\n",
    "string = input('Enter a String')\n",
    "string == string[::-1] \n",
    "\n",
    "if string :\n",
    "    print(f\" string '{string}' is palindrome\")\n"
   ]
  },
  {
   "cell_type": "code",
   "execution_count": 7,
   "id": "37c7c3bc-0fee-490b-bc68-5014a0e9ed3d",
   "metadata": {},
   "outputs": [
    {
     "name": "stdout",
     "output_type": "stream",
     "text": [
      "23\n"
     ]
    }
   ],
   "source": [
    "#Python program to count the total number of digits in a number.\n",
    "number = 89710872166666666666666\n",
    "# we cannot iterate over an integer\n",
    "# in python, we need to convert the\n",
    "# integer into string first using the\n",
    "# str() function\n",
    "number = str(number)\n",
    "count = 0\n",
    "for i in number:\n",
    "    count += 1\n",
    "print(count)"
   ]
  },
  {
   "cell_type": "code",
   "execution_count": 3,
   "id": "f589c976-3e88-4eb4-84d6-defd484df552",
   "metadata": {},
   "outputs": [
    {
     "name": "stdout",
     "output_type": "stream",
     "text": [
      "754\n"
     ]
    }
   ],
   "source": [
    "def add(num1,num2):\n",
    "    s = num1 + num2\n",
    "    return s\n",
    "\n",
    "v = add(666,88)\n",
    "print(v)"
   ]
  },
  {
   "cell_type": "code",
   "execution_count": 50,
   "id": "9c903acb-2961-4f7c-b626-48d35c26f7af",
   "metadata": {},
   "outputs": [
    {
     "name": "stdout",
     "output_type": "stream",
     "text": [
      "Overwriting test_maths1.py\n"
     ]
    }
   ],
   "source": [
    "%%writefile test_maths1.py\n",
    "\n",
    "def add(num1,num2):\n",
    "    \"\"\" function to add two numbers \"\"\"\n",
    "    s = num1 + num2\n",
    "    return s\n",
    "\n",
    "def sub(num1,num2):\n",
    "    \"\"\" function to subtract two numbers \"\"\"\n",
    "    s = num1 - num2\n",
    "    return s\n",
    "\n",
    "def div(num1,num2):\n",
    "    \"\"\" function to divide two numbers \"\"\"\n",
    "    s = num1 / num2\n",
    "    return s\n",
    "\n",
    "def mult(num1,num2):\n",
    "    \"\"\" function to multiply two numbers \"\"\"\n",
    "    s = num1 * num2\n",
    "    return s\n",
    "\n"
   ]
  },
  {
   "cell_type": "code",
   "execution_count": 66,
   "id": "11ac8655-7b42-421b-9749-ed8740ea29b6",
   "metadata": {},
   "outputs": [
    {
     "data": {
      "text/plain": [
       "1.2222222222222223"
      ]
     },
     "execution_count": 66,
     "metadata": {},
     "output_type": "execute_result"
    }
   ],
   "source": [
    "def add(num1,num2):\n",
    "    \"\"\" function to add two numbers \"\"\"\n",
    "    s = num1 + num2\n",
    "    return s\n",
    "\n",
    "def sub(num1,num2):\n",
    "    \"\"\" function to subtract two numbers \"\"\"\n",
    "    s = num1 - num2\n",
    "    return s\n",
    "\n",
    "def div(num1,num2):\n",
    "    \"\"\" function to divide two numbers \"\"\"\n",
    "    s = num1 / num2\n",
    "    return s\n",
    "\n",
    "def mult(num1,num2):\n",
    "    \"\"\" function to multiply two numbers \"\"\"\n",
    "    s = num1 * num2\n",
    "    return s\n",
    "\n",
    "add(1,1)\n",
    "sub(11,9)\n",
    "mult(11,9)\n",
    "div(11,9)"
   ]
  },
  {
   "cell_type": "code",
   "execution_count": 56,
   "id": "f6f73b31-9244-4347-bfd8-bbbc8650db73",
   "metadata": {},
   "outputs": [
    {
     "data": {
      "text/plain": [
       "0"
      ]
     },
     "execution_count": 56,
     "metadata": {},
     "output_type": "execute_result"
    }
   ],
   "source": [
    "add(11,11)"
   ]
  },
  {
   "cell_type": "code",
   "execution_count": 52,
   "id": "0265c7cc-73b2-4ef0-a48e-de8b2ad5d98d",
   "metadata": {},
   "outputs": [
    {
     "name": "stdout",
     "output_type": "stream",
     "text": [
      "11\n"
     ]
    }
   ],
   "source": [
    "v1 = add(11,22)\n",
    "print(v1)"
   ]
  },
  {
   "cell_type": "code",
   "execution_count": 36,
   "id": "fa7bbd34-0f26-47f4-802c-33421762eb05",
   "metadata": {},
   "outputs": [],
   "source": [
    "import test_maths1"
   ]
  },
  {
   "cell_type": "code",
   "execution_count": 38,
   "id": "a94dd35d-c7c0-4520-b372-4f36f03e4e0f",
   "metadata": {},
   "outputs": [
    {
     "data": {
      "text/plain": [
       "['__builtins__',\n",
       " '__cached__',\n",
       " '__doc__',\n",
       " '__file__',\n",
       " '__loader__',\n",
       " '__name__',\n",
       " '__package__',\n",
       " '__spec__',\n",
       " 'add',\n",
       " 'div',\n",
       " 'mult',\n",
       " 'sub']"
      ]
     },
     "execution_count": 38,
     "metadata": {},
     "output_type": "execute_result"
    }
   ],
   "source": [
    "dir(test_maths1)"
   ]
  },
  {
   "cell_type": "code",
   "execution_count": 42,
   "id": "cf561a65-3784-4a20-9211-1fa6d0b0b1af",
   "metadata": {},
   "outputs": [
    {
     "ename": "NameError",
     "evalue": "name 'mult' is not defined",
     "output_type": "error",
     "traceback": [
      "\u001b[1;31m---------------------------------------------------------------------------\u001b[0m",
      "\u001b[1;31mNameError\u001b[0m                                 Traceback (most recent call last)",
      "Cell \u001b[1;32mIn[42], line 1\u001b[0m\n\u001b[1;32m----> 1\u001b[0m v1 \u001b[38;5;241m=\u001b[39m mult(\u001b[38;5;241m66\u001b[39m,\u001b[38;5;241m8\u001b[39m)\n\u001b[0;32m      2\u001b[0m \u001b[38;5;28mprint\u001b[39m(v1)\n",
      "\u001b[1;31mNameError\u001b[0m: name 'mult' is not defined"
     ]
    }
   ],
   "source": [
    "v1 = mult(66,8)\n",
    "print(v1)"
   ]
  },
  {
   "cell_type": "code",
   "execution_count": 72,
   "id": "6b28ae4b-92d8-47b5-ac5a-4de133d4c3b2",
   "metadata": {},
   "outputs": [
    {
     "name": "stdout",
     "output_type": "stream",
     "text": [
      "Double the number of 15 = 30\n",
      "Triple the number of 15 = 45\n",
      "Quadruple the number of 15 = 60\n"
     ]
    }
   ],
   "source": [
    "#Write a  Python program to create a function that takes one argument, and that argument will be multiplied with an unknown given number.\n",
    "def func_compute(n):\n",
    "    return lambda x: x * n\n",
    "\n",
    "# Assign the result of calling func_compute with argument 2 to the variable 'result'\n",
    "result = func_compute(2)\n",
    "# Print the result of calling the lambda function stored in 'result' with argument 15\n",
    "print(\"Double the number of 15 =\", result(15))\n",
    "result = func_compute(3)\n",
    "print(\"Triple the number of 15 =\", result(15))\n",
    "result = func_compute(4)\n",
    "print(\"Quadruple the number of 15 =\", result(15))"
   ]
  },
  {
   "cell_type": "code",
   "execution_count": 80,
   "id": "c90d8862-c0f4-4d66-b8e4-619fde497bfd",
   "metadata": {},
   "outputs": [
    {
     "name": "stdout",
     "output_type": "stream",
     "text": [
      "Original list of tuples:\n",
      "[('English', 88), ('Science', 90), ('Maths', 97), ('Social sciences', 82)]\n",
      "\n",
      "Sorting the List of Tuples:\n",
      "[('Social sciences', 82), ('English', 88), ('Science', 90), ('Maths', 97)]\n"
     ]
    }
   ],
   "source": [
    "#Write a Python program to sort a list of tuples using Lambda.\n",
    "#Original list of tuples:\n",
    "# Create a list of tuples named 'subject_marks', each tuple containing a subject and its corresponding marks\n",
    "subject_marks = [('English', 88), ('Science', 90), ('Maths', 97), ('Social sciences', 82)]\n",
    "\n",
    "# Display the original list of tuples to the console\n",
    "print(\"Original list of tuples:\")\n",
    "print(subject_marks)\n",
    "\n",
    "# Sort the 'subject_marks' list of tuples based on the second element of each tuple (the marks),\n",
    "# using a lambda function as the sorting key to extract the second element\n",
    "subject_marks.sort(key=lambda x: x[1])\n",
    "print(\"\\nSorting the List of Tuples:\")\n",
    "print(subject_marks) "
   ]
  },
  {
   "cell_type": "code",
   "execution_count": 86,
   "id": "f841b711-a59c-4216-8139-257aae74888e",
   "metadata": {},
   "outputs": [
    {
     "name": "stdout",
     "output_type": "stream",
     "text": [
      "Original list of dictionaries:\n",
      "[{'make': 'Nokia', 'model': 216, 'color': 'Black'}, {'make': 'Mi Max', 'model': '2', 'color': 'Gold'}, {'make': 'Samsung', 'model': 7, 'color': 'Blue'}]\n",
      "\n",
      "Sorting the List of dictionaries:\n",
      "[{'make': 'Mi Max', 'model': '2', 'color': 'Gold'}, {'make': 'Nokia', 'model': 216, 'color': 'Black'}, {'make': 'Samsung', 'model': 7, 'color': 'Blue'}]\n"
     ]
    }
   ],
   "source": [
    "# Write a  Python program to sort a list of dictionaries using Lambda.\n",
    "#Original list of dictionaries :\n",
    "# Create a list of dictionaries named 'models', each dictionary representing a mobile phone model with 'make', 'model', and 'color' keys\n",
    "models = [\n",
    "    {'make': 'Nokia', 'model': 216, 'color': 'Black'},\n",
    "    {'make': 'Mi Max', 'model': '2', 'color': 'Gold'},\n",
    "    {'make': 'Samsung', 'model': 7, 'color': 'Blue'}\n",
    "]\n",
    "\n",
    "# Display a message indicating that the following output will show the original list of dictionaries\n",
    "print(\"Original list of dictionaries:\")\n",
    "print(models)\n",
    "\n",
    "# Sort the list of dictionaries ('models') based on the value associated with the 'color' key in each dictionary\n",
    "# Uses the 'sorted()' function with a lambda function as the sorting key to sort based on the 'color' value\n",
    "sorted_models = sorted(models, key=lambda x: x['make'])\n",
    "\n",
    "# Display a message indicating that the following output will show the sorted list of dictionaries\n",
    "print(\"\\nSorting the List of dictionaries:\")\n",
    "print(sorted_models) \n"
   ]
  },
  {
   "cell_type": "code",
   "execution_count": 88,
   "id": "e128397c-dba7-4437-a959-1fbaa4876a2e",
   "metadata": {},
   "outputs": [
    {
     "name": "stdout",
     "output_type": "stream",
     "text": [
      "Original list of integers:\n",
      "[1, 2, 3, 4, 5, 6, 7, 8, 9, 10]\n",
      "\n",
      "Even numbers from the said list:\n",
      "[2, 4, 6, 8, 10]\n",
      "\n",
      "Odd numbers from the said list:\n",
      "[1, 3, 5, 7, 9]\n"
     ]
    }
   ],
   "source": [
    "#Write a  Python program to filter a list of integers using Lambda Original list of integers:\n",
    "# Create a list of integers named 'nums'\n",
    "nums = [1, 2, 3, 4, 5, 6, 7, 8, 9, 10]\n",
    "\n",
    "# Display a message indicating that the following output will show the original list of integers\n",
    "print(\"Original list of integers:\")\n",
    "print(nums)\n",
    "\n",
    "# Display a message indicating that the following output will show even numbers from the list\n",
    "print(\"\\nEven numbers from the said list:\")\n",
    "\n",
    "# Use the 'filter()' function with a lambda function to filter even numbers from 'nums'\n",
    "# Create a new list 'even_nums' containing only the even numbers from the original list\n",
    "even_nums = list(filter(lambda x: x % 2 == 0, nums))\n",
    "print(even_nums)\n",
    "\n",
    "# Display a message indicating that the following output will show odd numbers from the list\n",
    "print(\"\\nOdd numbers from the said list:\")\n",
    "\n",
    "# Use the 'filter()' function with a lambda function to filter odd numbers from 'nums'\n",
    "# Create a new list 'odd_nums' containing only the odd numbers from the original list\n",
    "odd_nums = list(filter(lambda x: x % 2 != 0, nums))\n",
    "print(odd_nums) \n"
   ]
  },
  {
   "cell_type": "code",
   "execution_count": 90,
   "id": "d2a34ce9-da42-42e9-8f42-5ff1f95057b5",
   "metadata": {},
   "outputs": [
    {
     "name": "stdout",
     "output_type": "stream",
     "text": [
      "Original list of integers:\n",
      "[1, 2, 3, 4, 5, 6, 7, 8, 9, 10]\n",
      "\n",
      "Square every number of the said list:\n",
      "[1, 4, 9, 16, 25, 36, 49, 64, 81, 100]\n",
      "\n",
      "Cube every number of the said list:\n",
      "[1, 8, 27, 64, 125, 216, 343, 512, 729, 1000]\n"
     ]
    }
   ],
   "source": [
    "#Write a  Python program to square and cube every number in a given list of integers using Lambda.\n",
    "# Create a list of integers named 'nums'\n",
    "nums = [1, 2, 3, 4, 5, 6, 7, 8, 9, 10]\n",
    "\n",
    "# Display a message indicating that the following output will show the original list of integers\n",
    "print(\"Original list of integers:\")\n",
    "print(nums)\n",
    "\n",
    "# Display a message indicating that the following output will show each number in the list squared\n",
    "print(\"\\nSquare every number of the said list:\")\n",
    "\n",
    "# Use the 'map()' function with a lambda function to square each number in the 'nums' list\n",
    "# Create a new list 'square_nums' containing the squared values of the original list\n",
    "square_nums = list(map(lambda x: x ** 2, nums))\n",
    "print(square_nums)\n",
    "\n",
    "# Display a message indicating that the following output will show each number in the list cubed\n",
    "print(\"\\nCube every number of the said list:\")\n",
    "\n",
    "# Use the 'map()' function with a lambda function to cube each number in the 'nums' list\n",
    "# Create a new list 'cube_nums' containing the cubed values of the original list\n",
    "cube_nums = list(map(lambda x: x ** 3, nums))\n",
    "print(cube_nums) \n"
   ]
  },
  {
   "cell_type": "code",
   "execution_count": 92,
   "id": "2e7b3675-6179-48d7-9273-acb83133a9da",
   "metadata": {},
   "outputs": [
    {
     "name": "stdout",
     "output_type": "stream",
     "text": [
      "2024-08-04 21:11:10.404037\n",
      "2024\n",
      "8\n",
      "4\n",
      "21:11:10.404037\n"
     ]
    }
   ],
   "source": [
    "# Import the 'datetime' module to work with date and time\n",
    "import datetime\n",
    "\n",
    "# Get the current date and time using 'datetime.datetime.now()' and store it in the variable 'now'\n",
    "now = datetime.datetime.now()\n",
    "\n",
    "# Display the current date and time stored in 'now'\n",
    "print(now)\n",
    "\n",
    "# Define a lambda function 'year' to extract the year from a given datetime object 'x'\n",
    "year = lambda x: x.year\n",
    "\n",
    "# Define a lambda function 'month' to extract the month from a given datetime object 'x'\n",
    "month = lambda x: x.month\n",
    "\n",
    "# Define a lambda function 'day' to extract the day from a given datetime object 'x'\n",
    "day = lambda x: x.day\n",
    "\n",
    "# Define a lambda function 't' to extract the time from a given datetime object 'x'\n",
    "t = lambda x: x.time()\n",
    "\n",
    "# Print the year extracted from the current datetime object 'now'\n",
    "print(year(now))\n",
    "\n",
    "# Print the month extracted from the current datetime object 'now'\n",
    "print(month(now))\n",
    "\n",
    "# Print the day extracted from the current datetime object 'now'\n",
    "print(day(now))\n",
    "\n",
    "# Print the time extracted from the current datetime object 'now'\n",
    "print(t(now)) \n"
   ]
  },
  {
   "cell_type": "code",
   "execution_count": 94,
   "id": "87cc31c9-4e5b-47e7-bc04-8c4a7fc75fae",
   "metadata": {},
   "outputs": [
    {
     "name": "stdout",
     "output_type": "stream",
     "text": [
      "True\n",
      "True\n",
      "False\n",
      "True\n",
      "False\n",
      "True\n",
      "\n",
      "Print checking numbers:\n",
      "True\n",
      "True\n"
     ]
    }
   ],
   "source": [
    "#Write a  Python program to check whether a given string is a number or not using Lambda.\n",
    "# Define a lambda function 'is_num' that checks if a given string 'q' represents a number:\n",
    "# It first removes the first decimal point in the string using 'replace()',\n",
    "# then checks if the resulting string is composed of digits using 'isdigit()'\n",
    "is_num = lambda q: q.replace('.', '', 1).isdigit()\n",
    "\n",
    "# Check if the given strings are numeric by using the 'is_num' lambda function and print the results\n",
    "print(is_num('26587'))\n",
    "print(is_num('4.2365'))\n",
    "print(is_num('-12547'))\n",
    "print(is_num('00'))\n",
    "print(is_num('A001'))\n",
    "print(is_num('001'))\n",
    "\n",
    "# Print a line break to separate the previous output from the next set of results\n",
    "print(\"\\nPrint checking numbers:\")\n",
    "\n",
    "# Define a lambda function 'is_num1' that further checks if a string represents a number by\n",
    "# excluding a minus sign at the beginning if present and then using the 'is_num' lambda function\n",
    "# This function calls 'is_num' on the string without the leading '-' if the string starts with '-'\n",
    "is_num1 = lambda r: is_num(r[1:]) if r[0] == '-' else is_num(r)\n",
    "\n",
    "# Check if the given strings (with a possible leading '-') are numeric using 'is_num1' lambda function and print the results\n",
    "print(is_num1('-16.4'))\n",
    "print(is_num1('-24587.11')) \n"
   ]
  },
  {
   "cell_type": "code",
   "execution_count": 96,
   "id": "8c51406d-90da-455c-9a19-3327f153e719",
   "metadata": {},
   "outputs": [
    {
     "name": "stdout",
     "output_type": "stream",
     "text": [
      "Original arrays:\n",
      "[1, 2, 3, 5, 7, 8, 9, 10]\n",
      "[1, 2, 4, 8, 9]\n",
      "\n",
      "Intersection of the said arrays:  [1, 2, 8, 9]\n"
     ]
    }
   ],
   "source": [
    "#. Write a  Python program to find the intersection of two given arrays using Lambda Original arrays\n",
    "# Define two lists 'array_nums1' and 'array_nums2' containing integers\n",
    "array_nums1 = [1, 2, 3, 5, 7, 8, 9, 10]\n",
    "array_nums2 = [1, 2, 4, 8, 9]\n",
    "\n",
    "# Display a message indicating that the following output will show the original arrays\n",
    "print(\"Original arrays:\")\n",
    "print(array_nums1)  # Print the contents of 'array_nums1'\n",
    "print(array_nums2)  # Print the contents of 'array_nums2'\n",
    "\n",
    "# Use the 'filter()' function with a lambda function to find the intersection of 'array_nums1' and 'array_nums2'\n",
    "# Filter out elements from 'array_nums2' that are also present in 'array_nums1' using the lambda function\n",
    "result = list(filter(lambda x: x in array_nums1, array_nums2))\n",
    "\n",
    "# Display the intersection of the two arrays ('array_nums1' and 'array_nums2')\n",
    "print(\"\\nIntersection of the said arrays: \", result) \n"
   ]
  },
  {
   "cell_type": "code",
   "execution_count": 104,
   "id": "c9839ae7-5014-4b6d-bff7-e835e32f24e6",
   "metadata": {},
   "outputs": [
    {
     "name": "stdout",
     "output_type": "stream",
     "text": [
      "Original arrays:\n",
      "[-1, 2, -3, 5, 7, 8, 9, -10]\n",
      "\n",
      "Rearrange positive and negative numbers of the said array:\n",
      "[2, 5, 7, 8, 9, -10, -3, -1]\n"
     ]
    }
   ],
   "source": [
    "# Define a list 'array_nums' containing both positive and negative integers\n",
    "array_nums = [-1, 2, -3, 5, 7, 8, 9, -10]\n",
    "\n",
    "# Display a message indicating that the following output will show the original array\n",
    "print(\"Original arrays:\")\n",
    "print(array_nums)  # Print the contents of 'array_nums'\n",
    "\n",
    "# Use the 'sorted()' function to rearrange the elements in 'array_nums' based on a custom key\n",
    "# The 'key' parameter uses a lambda function to sort the elements:\n",
    "#   - It places positive numbers before negative numbers and zeros, maintaining their original order\n",
    "#   - Zeros are placed at the front (index 0) of the sorted list\n",
    "result = sorted(array_nums, key=lambda i: 0 if i == 0 else -1 / i)\n",
    "\n",
    "# Display the rearranged array where positive numbers come before negative numbers and zeros\n",
    "print(\"\\nRearrange positive and negative numbers of the said array:\")\n",
    "print(result)  # Print the rearranged 'result' array.\n"
   ]
  },
  {
   "cell_type": "code",
   "execution_count": null,
   "id": "aa55ec3b-3849-47c2-bdd7-b87487c3fccd",
   "metadata": {},
   "outputs": [],
   "source": []
  }
 ],
 "metadata": {
  "kernelspec": {
   "display_name": "Python 3 (ipykernel)",
   "language": "python",
   "name": "python3"
  },
  "language_info": {
   "codemirror_mode": {
    "name": "ipython",
    "version": 3
   },
   "file_extension": ".py",
   "mimetype": "text/x-python",
   "name": "python",
   "nbconvert_exporter": "python",
   "pygments_lexer": "ipython3",
   "version": "3.12.4"
  }
 },
 "nbformat": 4,
 "nbformat_minor": 5
}

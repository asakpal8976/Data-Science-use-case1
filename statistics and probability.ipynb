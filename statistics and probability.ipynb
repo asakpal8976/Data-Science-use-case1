{
 "cells": [
  {
   "cell_type": "code",
   "execution_count": 1,
   "id": "439b0eef-e741-4f8e-b632-cb1061cf55cb",
   "metadata": {},
   "outputs": [],
   "source": [
    "import numpy as np\n",
    "import pandas as pd\n",
    "import matplotlib.pyplot as plt\n",
    "import seaborn as sns"
   ]
  },
  {
   "cell_type": "code",
   "execution_count": 13,
   "id": "09978bd6-1c44-42b6-b0f4-be31cb43afc1",
   "metadata": {},
   "outputs": [],
   "source": [
    "df = sns.load_dataset('penguins')"
   ]
  },
  {
   "cell_type": "code",
   "execution_count": 15,
   "id": "794836c8-83e2-4486-bc90-7878839c158b",
   "metadata": {},
   "outputs": [
    {
     "data": {
      "text/html": [
       "<div>\n",
       "<style scoped>\n",
       "    .dataframe tbody tr th:only-of-type {\n",
       "        vertical-align: middle;\n",
       "    }\n",
       "\n",
       "    .dataframe tbody tr th {\n",
       "        vertical-align: top;\n",
       "    }\n",
       "\n",
       "    .dataframe thead th {\n",
       "        text-align: right;\n",
       "    }\n",
       "</style>\n",
       "<table border=\"1\" class=\"dataframe\">\n",
       "  <thead>\n",
       "    <tr style=\"text-align: right;\">\n",
       "      <th></th>\n",
       "      <th>species</th>\n",
       "      <th>island</th>\n",
       "      <th>bill_length_mm</th>\n",
       "      <th>bill_depth_mm</th>\n",
       "      <th>flipper_length_mm</th>\n",
       "      <th>body_mass_g</th>\n",
       "      <th>sex</th>\n",
       "    </tr>\n",
       "  </thead>\n",
       "  <tbody>\n",
       "    <tr>\n",
       "      <th>0</th>\n",
       "      <td>Adelie</td>\n",
       "      <td>Torgersen</td>\n",
       "      <td>39.1</td>\n",
       "      <td>18.7</td>\n",
       "      <td>181.0</td>\n",
       "      <td>3750.0</td>\n",
       "      <td>Male</td>\n",
       "    </tr>\n",
       "    <tr>\n",
       "      <th>1</th>\n",
       "      <td>Adelie</td>\n",
       "      <td>Torgersen</td>\n",
       "      <td>39.5</td>\n",
       "      <td>17.4</td>\n",
       "      <td>186.0</td>\n",
       "      <td>3800.0</td>\n",
       "      <td>Female</td>\n",
       "    </tr>\n",
       "    <tr>\n",
       "      <th>2</th>\n",
       "      <td>Adelie</td>\n",
       "      <td>Torgersen</td>\n",
       "      <td>40.3</td>\n",
       "      <td>18.0</td>\n",
       "      <td>195.0</td>\n",
       "      <td>3250.0</td>\n",
       "      <td>Female</td>\n",
       "    </tr>\n",
       "    <tr>\n",
       "      <th>3</th>\n",
       "      <td>Adelie</td>\n",
       "      <td>Torgersen</td>\n",
       "      <td>NaN</td>\n",
       "      <td>NaN</td>\n",
       "      <td>NaN</td>\n",
       "      <td>NaN</td>\n",
       "      <td>NaN</td>\n",
       "    </tr>\n",
       "    <tr>\n",
       "      <th>4</th>\n",
       "      <td>Adelie</td>\n",
       "      <td>Torgersen</td>\n",
       "      <td>36.7</td>\n",
       "      <td>19.3</td>\n",
       "      <td>193.0</td>\n",
       "      <td>3450.0</td>\n",
       "      <td>Female</td>\n",
       "    </tr>\n",
       "  </tbody>\n",
       "</table>\n",
       "</div>"
      ],
      "text/plain": [
       "  species     island  bill_length_mm  bill_depth_mm  flipper_length_mm  \\\n",
       "0  Adelie  Torgersen            39.1           18.7              181.0   \n",
       "1  Adelie  Torgersen            39.5           17.4              186.0   \n",
       "2  Adelie  Torgersen            40.3           18.0              195.0   \n",
       "3  Adelie  Torgersen             NaN            NaN                NaN   \n",
       "4  Adelie  Torgersen            36.7           19.3              193.0   \n",
       "\n",
       "   body_mass_g     sex  \n",
       "0       3750.0    Male  \n",
       "1       3800.0  Female  \n",
       "2       3250.0  Female  \n",
       "3          NaN     NaN  \n",
       "4       3450.0  Female  "
      ]
     },
     "execution_count": 15,
     "metadata": {},
     "output_type": "execute_result"
    }
   ],
   "source": [
    "df.head()"
   ]
  },
  {
   "cell_type": "code",
   "execution_count": 17,
   "id": "a49b62f8-3873-4ba8-a054-6aff221d4db5",
   "metadata": {},
   "outputs": [],
   "source": [
    "# which party won election last year?\n",
    "# at which location the party got maximum votes?\n",
    "# at which location the party got minimum votes?\n",
    "# the location where the winning party got less votes, which party has majority votes there?\n",
    "# number of candidates who got re elected again? frequency of getting re elected\n",
    "# age group of people who voted maximumly"
   ]
  },
  {
   "cell_type": "code",
   "execution_count": 19,
   "id": "7b4219f7-ad79-453a-b426-8d050516b7d5",
   "metadata": {},
   "outputs": [],
   "source": [
    "# species: categorical(discrete)\n",
    "# island: categorical (discrete)\n",
    "# bill_length_mm: numerical \n",
    "# flipper_length_mm: numerical\n",
    "# body_mass_g: numrical\n",
    "# sex: categorical"
   ]
  },
  {
   "cell_type": "code",
   "execution_count": 25,
   "id": "b0f15874-44ba-48e1-b5c0-a47d8819afb0",
   "metadata": {},
   "outputs": [
    {
     "name": "stdout",
     "output_type": "stream",
     "text": [
      "Mean:  31.09222222222222\n"
     ]
    }
   ],
   "source": [
    "rain_mm = [21.2, 21, 98, 25, 22.8, 20.8, 24.7, 24.33, 22]\n",
    "print('Mean: ', np.mean(rain_mm))"
   ]
  },
  {
   "cell_type": "code",
   "execution_count": 27,
   "id": "0442c679-59b9-42ac-8ebc-f31f69a5d51c",
   "metadata": {},
   "outputs": [
    {
     "name": "stdout",
     "output_type": "stream",
     "text": [
      "Median:  22.8\n"
     ]
    }
   ],
   "source": [
    "print('Median: ', np.median(rain_mm))"
   ]
  },
  {
   "cell_type": "code",
   "execution_count": 29,
   "id": "43e23139-d00a-4f93-9658-e01b66bf8587",
   "metadata": {},
   "outputs": [
    {
     "name": "stdout",
     "output_type": "stream",
     "text": [
      "Mode:  0    212\n",
      "1    275\n",
      "dtype: int64\n"
     ]
    }
   ],
   "source": [
    "# consider series of daily salary of 15 workers\n",
    "daily_sal = pd.Series([212, 121, 398, 245, 228, 208, 212, 293, 275, 190, 514, 275, 312])\n",
    "\n",
    "print('Mode: ', daily_sal.mode())"
   ]
  },
  {
   "cell_type": "code",
   "execution_count": 31,
   "id": "5c11c3aa-d556-4699-9161-76a45f8a5700",
   "metadata": {},
   "outputs": [
    {
     "name": "stdout",
     "output_type": "stream",
     "text": [
      "Q1:  212.0\n",
      "Q2:  245.0\n",
      "Q3:  293.0\n"
     ]
    }
   ],
   "source": [
    "#quartile\n",
    "print('Q1: ', daily_sal.quantile(0.25))\n",
    "print('Q2: ', daily_sal.quantile(0.50))\n",
    "print('Q3: ', daily_sal.quantile(0.75))"
   ]
  },
  {
   "cell_type": "code",
   "execution_count": 33,
   "id": "b7c16bf0-b3f7-4168-ba82-e13e877bb39d",
   "metadata": {},
   "outputs": [
    {
     "name": "stdout",
     "output_type": "stream",
     "text": [
      "D1:  193.6\n",
      "D5:  245.0\n",
      "D9:  380.80000000000007\n"
     ]
    }
   ],
   "source": [
    "# decile\n",
    "print('D1: ', daily_sal.quantile(0.10))\n",
    "print('D5: ', daily_sal.quantile(0.50))\n",
    "print('D9: ', daily_sal.quantile(0.90))"
   ]
  },
  {
   "cell_type": "code",
   "execution_count": 35,
   "id": "ddd87ce7-128f-45ff-b907-6f8238c4af64",
   "metadata": {},
   "outputs": [
    {
     "name": "stdout",
     "output_type": "stream",
     "text": [
      "P10:  193.6\n",
      "P50:  245.0\n",
      "P99:  500.07999999999987\n"
     ]
    }
   ],
   "source": [
    "#percentile\n",
    "print('P10: ', daily_sal.quantile(0.10))\n",
    "print('P50: ', daily_sal.quantile(0.50))\n",
    "print('P99: ', daily_sal.quantile(0.99))"
   ]
  },
  {
   "cell_type": "code",
   "execution_count": null,
   "id": "c94866ed-96dd-4358-bd30-c7c51a2fd1c9",
   "metadata": {},
   "outputs": [],
   "source": []
  }
 ],
 "metadata": {
  "kernelspec": {
   "display_name": "Python 3 (ipykernel)",
   "language": "python",
   "name": "python3"
  },
  "language_info": {
   "codemirror_mode": {
    "name": "ipython",
    "version": 3
   },
   "file_extension": ".py",
   "mimetype": "text/x-python",
   "name": "python",
   "nbconvert_exporter": "python",
   "pygments_lexer": "ipython3",
   "version": "3.12.4"
  }
 },
 "nbformat": 4,
 "nbformat_minor": 5
}

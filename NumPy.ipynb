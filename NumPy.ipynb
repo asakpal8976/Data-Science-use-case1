{
 "cells": [
  {
   "cell_type": "code",
   "execution_count": 33,
   "id": "7fe1876a-d5e0-40a2-8513-612058ead196",
   "metadata": {},
   "outputs": [],
   "source": [
    "import numpy as np"
   ]
  },
  {
   "cell_type": "code",
   "execution_count": 35,
   "id": "12886e10-1bfb-4a2d-a9ea-7f2dbb773be1",
   "metadata": {},
   "outputs": [
    {
     "name": "stdout",
     "output_type": "stream",
     "text": [
      "800 bytes\n"
     ]
    }
   ],
   "source": [
    "#How to find the memory size of any array\n",
    "Z = np.zeros((10,10))\n",
    "print(\"%d bytes\" % (Z.size * Z.itemsize))"
   ]
  },
  {
   "cell_type": "code",
   "execution_count": 41,
   "id": "805e1d6c-f6b8-40ef-a06b-24d854e5bb26",
   "metadata": {},
   "outputs": [
    {
     "name": "stdout",
     "output_type": "stream",
     "text": [
      "[0. 0. 0. 0. 1. 0. 0. 0. 0. 0.]\n"
     ]
    }
   ],
   "source": [
    "#Create a null vector of size 10 but the fifth value which is 1 \n",
    "Z = np.zeros(10)\n",
    "Z[4] = 1\n",
    "print(Z)"
   ]
  },
  {
   "cell_type": "code",
   "execution_count": 49,
   "id": "466a633b-4faa-495d-9a47-8626bec52559",
   "metadata": {},
   "outputs": [
    {
     "name": "stdout",
     "output_type": "stream",
     "text": [
      "[[1. 1. 1. 1. 1. 1. 1. 1. 1. 1.]\n",
      " [1. 0. 0. 0. 0. 0. 0. 0. 0. 1.]\n",
      " [1. 0. 0. 0. 0. 0. 0. 0. 0. 1.]\n",
      " [1. 0. 0. 0. 0. 0. 0. 0. 0. 1.]\n",
      " [1. 0. 0. 0. 0. 0. 0. 0. 0. 1.]\n",
      " [1. 0. 0. 0. 0. 0. 0. 0. 0. 1.]\n",
      " [1. 0. 0. 0. 0. 0. 0. 0. 0. 1.]\n",
      " [1. 0. 0. 0. 0. 0. 0. 0. 0. 1.]\n",
      " [1. 0. 0. 0. 0. 0. 0. 0. 0. 1.]\n",
      " [1. 1. 1. 1. 1. 1. 1. 1. 1. 1.]]\n"
     ]
    }
   ],
   "source": [
    "#Create a 2d array with 1 on the border and 0 inside (★☆☆)\n",
    "#`hint: array[1:-1, 1:-1]\n",
    "\n",
    "Z = np.ones((10,10))\n",
    "Z[1:-1,1:-1] = 0\n",
    "print(Z)"
   ]
  },
  {
   "cell_type": "code",
   "execution_count": 45,
   "id": "0e8397f5-25ea-4c7a-baaa-eee2eb70123b",
   "metadata": {},
   "outputs": [
    {
     "name": "stdout",
     "output_type": "stream",
     "text": [
      "(array([0, 1, 4], dtype=int64),)\n"
     ]
    }
   ],
   "source": [
    "#Find indices of non-zero elements from [1,2,0,0,4,0]\n",
    "    \n",
    "nz = np.nonzero([1,2,0,0,4,0])\n",
    "print(nz)"
   ]
  },
  {
   "cell_type": "code",
   "execution_count": 59,
   "id": "9d8131f0-709c-4717-ab39-7445a1c81b33",
   "metadata": {},
   "outputs": [
    {
     "name": "stdout",
     "output_type": "stream",
     "text": [
      "[1, 2, 3, 4]\n"
     ]
    },
    {
     "data": {
      "text/plain": [
       "array([1, 2, 3, 4])"
      ]
     },
     "execution_count": 59,
     "metadata": {},
     "output_type": "execute_result"
    }
   ],
   "source": [
    "# create an array\n",
    "# 1D array\n",
    "var1 = [1,2,3,4]\n",
    "print(var1)\n",
    "array = np.array(var1)\n",
    "array"
   ]
  },
  {
   "cell_type": "code",
   "execution_count": 5,
   "id": "aa76ea4c-e470-4949-b1f3-f2a2142482e1",
   "metadata": {},
   "outputs": [
    {
     "data": {
      "text/plain": [
       "array([1, 2, 3, 4])"
      ]
     },
     "execution_count": 5,
     "metadata": {},
     "output_type": "execute_result"
    }
   ],
   "source": [
    "var = [1,2,3,4]\n",
    "np.array(var)"
   ]
  },
  {
   "cell_type": "code",
   "execution_count": 16,
   "id": "848385af-52f0-48a7-a609-50d0f4ae9999",
   "metadata": {},
   "outputs": [
    {
     "name": "stdout",
     "output_type": "stream",
     "text": [
      "['ahsb', 'habsj', 'jnbc']\n"
     ]
    },
    {
     "data": {
      "text/plain": [
       "array(['ahsb', 'habsj', 'jnbc'], dtype='<U5')"
      ]
     },
     "execution_count": 16,
     "metadata": {},
     "output_type": "execute_result"
    }
   ],
   "source": [
    "var2 = ['ahsb', 'habsj', 'jnbc']\n",
    "print(var2)\n",
    "array = np.array(var2)\n",
    "array"
   ]
  },
  {
   "cell_type": "code",
   "execution_count": 61,
   "id": "560352ea-a645-46c3-a9f9-5dee7cc5f0b4",
   "metadata": {},
   "outputs": [
    {
     "name": "stdout",
     "output_type": "stream",
     "text": [
      "[1, 2, 3, 4] ['ahsb', 'habsj', 'jnbc', 1]\n"
     ]
    },
    {
     "data": {
      "text/plain": [
       "array([1, 2, 3, 4])"
      ]
     },
     "execution_count": 61,
     "metadata": {},
     "output_type": "execute_result"
    }
   ],
   "source": [
    "var1 = [1,2,3,4]\n",
    "var2 = ['ahsb', 'habsj', 'jnbc', 1]\n",
    "print(var1,var2)\n",
    "array = np.array(var1)\n",
    "array"
   ]
  },
  {
   "cell_type": "markdown",
   "id": "62912a6e-6bf2-49b9-8f6e-2ff743c2c8f7",
   "metadata": {},
   "source": [
    "**Random**"
   ]
  },
  {
   "cell_type": "code",
   "execution_count": 28,
   "id": "d9d9b0f8-e9b2-4fa5-ad0b-75bae80bc615",
   "metadata": {},
   "outputs": [
    {
     "name": "stdout",
     "output_type": "stream",
     "text": [
      "[0.33938268 0.87855858 0.80394724 0.74164802 0.59905313 0.0326394\n",
      " 0.07107742 0.20571047 0.88243126 0.32573319]\n"
     ]
    }
   ],
   "source": [
    "random_numbers = np.random.random(size = 10)\n",
    "print(random_numbers)"
   ]
  },
  {
   "cell_type": "code",
   "execution_count": 5,
   "id": "7600e12a-7df3-497e-8801-680ceff1a722",
   "metadata": {},
   "outputs": [
    {
     "data": {
      "text/plain": [
       "array([0.51579953, 0.6386192 , 0.92458929, 0.41225063, 0.33580888,\n",
       "       0.53744047, 0.3309656 , 0.98738435, 0.71217596, 0.40205459])"
      ]
     },
     "execution_count": 5,
     "metadata": {},
     "output_type": "execute_result"
    }
   ],
   "source": [
    "np.random.random(10)"
   ]
  },
  {
   "cell_type": "code",
   "execution_count": 30,
   "id": "480b4be1-0279-4934-8fab-ea7e9e566945",
   "metadata": {},
   "outputs": [
    {
     "data": {
      "text/plain": [
       "array([[0.31996033, 0.65573774, 0.74782684],\n",
       "       [0.96594832, 0.98258108, 0.44163235]])"
      ]
     },
     "execution_count": 30,
     "metadata": {},
     "output_type": "execute_result"
    }
   ],
   "source": [
    "np.random.rand(2,3)"
   ]
  },
  {
   "cell_type": "code",
   "execution_count": 32,
   "id": "4985448b-7798-4962-8cd7-ca98858f3a7d",
   "metadata": {},
   "outputs": [
    {
     "data": {
      "text/plain": [
       "array([[0.11498157, 0.77128684, 0.12488847, 0.55669397, 0.92425759,\n",
       "        0.68871823, 0.51885719, 0.3532246 , 0.73371045, 0.94620892],\n",
       "       [0.11123955, 0.25745842, 0.16277363, 0.87313625, 0.80277263,\n",
       "        0.25590794, 0.54785933, 0.76871309, 0.8600093 , 0.84311309],\n",
       "       [0.41111089, 0.22464204, 0.82977364, 0.57128398, 0.46315529,\n",
       "        0.48573879, 0.20769609, 0.10635298, 0.3010562 , 0.05144143],\n",
       "       [0.57630164, 0.37269431, 0.6458267 , 0.06797532, 0.03136686,\n",
       "        0.55725672, 0.29362324, 0.41332854, 0.10753702, 0.12163403],\n",
       "       [0.28315286, 0.03762256, 0.37118696, 0.69459232, 0.22516383,\n",
       "        0.23597924, 0.7844213 , 0.51663177, 0.34884847, 0.54089586]])"
      ]
     },
     "execution_count": 32,
     "metadata": {},
     "output_type": "execute_result"
    }
   ],
   "source": [
    "np.random.rand(5,10)"
   ]
  },
  {
   "cell_type": "code",
   "execution_count": 34,
   "id": "f28822b5-83ed-4c10-adb8-e6d9deb52446",
   "metadata": {},
   "outputs": [
    {
     "data": {
      "text/plain": [
       "array([[0.94193791, 0.93141436, 0.45614988],\n",
       "       [0.26424643, 0.57557173, 0.24335431],\n",
       "       [0.20045102, 0.7433802 , 0.13088515],\n",
       "       [0.16133159, 0.69343227, 0.02379184],\n",
       "       [0.73236255, 0.05032804, 0.83776165]])"
      ]
     },
     "execution_count": 34,
     "metadata": {},
     "output_type": "execute_result"
    }
   ],
   "source": [
    "np.random.rand(5,3)"
   ]
  },
  {
   "cell_type": "code",
   "execution_count": 36,
   "id": "1373d041-4e6a-42ba-892b-01dc27965cf4",
   "metadata": {},
   "outputs": [
    {
     "data": {
      "text/plain": [
       "array([[ 0.19293046,  0.93491927, -1.81721272, -0.57960711,  0.34858774,\n",
       "         0.41362526,  0.75650986, -0.41460319,  1.23017756,  0.62152982],\n",
       "       [ 0.61953626, -0.20561273, -0.33221332, -1.27301057, -0.36456329,\n",
       "        -0.50006961,  0.3642143 , -3.15425345, -0.46076693,  0.33589845],\n",
       "       [-2.05795999,  1.04606537,  1.01387734,  0.33871698, -0.36584821,\n",
       "         0.17572667, -0.45584939, -1.16706114,  0.60053145,  0.83902421],\n",
       "       [ 0.3614411 ,  0.728228  ,  0.80539497,  0.19974284,  0.93965151,\n",
       "        -1.53952775, -0.4137703 , -0.2818647 , -1.03036845, -1.03975783],\n",
       "       [-0.6328136 , -1.84617751,  1.96417344,  1.51293751,  0.37553686,\n",
       "         1.16670403,  0.18979156, -1.53285261, -1.71617833, -0.41534416]])"
      ]
     },
     "execution_count": 36,
     "metadata": {},
     "output_type": "execute_result"
    }
   ],
   "source": [
    "np.random.randn(5,10)"
   ]
  },
  {
   "cell_type": "code",
   "execution_count": 38,
   "id": "a060e418-52b5-48a0-9a85-38a1c0418206",
   "metadata": {},
   "outputs": [
    {
     "data": {
      "text/plain": [
       "array([[ 0.15200928, -0.94985409, -0.56467371],\n",
       "       [ 0.34007123,  0.99083328,  0.62087945]])"
      ]
     },
     "execution_count": 38,
     "metadata": {},
     "output_type": "execute_result"
    }
   ],
   "source": [
    "np.random.randn(2,3)"
   ]
  },
  {
   "cell_type": "code",
   "execution_count": 40,
   "id": "2473f7a9-e964-44f6-a3b7-2ce4920940f6",
   "metadata": {},
   "outputs": [
    {
     "data": {
      "text/plain": [
       "8"
      ]
     },
     "execution_count": 40,
     "metadata": {},
     "output_type": "execute_result"
    }
   ],
   "source": [
    "# returns random integers\n",
    "np.random.randint(2,10)"
   ]
  },
  {
   "cell_type": "code",
   "execution_count": 42,
   "id": "9c846aa4-8e35-4b6d-b5be-540b2e5fa726",
   "metadata": {},
   "outputs": [
    {
     "data": {
      "text/plain": [
       "array([568, 629, 519, 353, 623, 559, 172, 247, 172, 662])"
      ]
     },
     "execution_count": 42,
     "metadata": {},
     "output_type": "execute_result"
    }
   ],
   "source": [
    "np.random.randint(10,1000,10)"
   ]
  },
  {
   "cell_type": "markdown",
   "id": "a3c920ba-cd09-47e9-bdcd-e7f81879354e",
   "metadata": {},
   "source": [
    "**Arange**"
   ]
  },
  {
   "cell_type": "code",
   "execution_count": 45,
   "id": "1d721f12-5daf-486a-be58-52d0dc40fd0d",
   "metadata": {},
   "outputs": [
    {
     "data": {
      "text/plain": [
       "array([ 1, 21, 41, 61, 81])"
      ]
     },
     "execution_count": 45,
     "metadata": {},
     "output_type": "execute_result"
    }
   ],
   "source": [
    "np.arange(1,100,20)"
   ]
  },
  {
   "cell_type": "code",
   "execution_count": 49,
   "id": "2abaaaa8-0340-457b-9fb0-304c88ec217f",
   "metadata": {},
   "outputs": [
    {
     "data": {
      "text/plain": [
       "array([50, 55, 60, 65, 70, 75, 80, 85, 90, 95])"
      ]
     },
     "execution_count": 49,
     "metadata": {},
     "output_type": "execute_result"
    }
   ],
   "source": [
    "np.arange(50,100,5)"
   ]
  },
  {
   "cell_type": "code",
   "execution_count": 7,
   "id": "a3892c22-189a-42dc-a8f9-6bc4c10144c0",
   "metadata": {},
   "outputs": [
    {
     "data": {
      "text/plain": [
       "array([ 7, 14, 21, 28, 35, 42, 49, 56, 63, 70])"
      ]
     },
     "execution_count": 7,
     "metadata": {},
     "output_type": "execute_result"
    }
   ],
   "source": [
    "np.arange(7,71,7)"
   ]
  },
  {
   "cell_type": "code",
   "execution_count": 53,
   "id": "96df99d8-cb3c-4964-b910-f3a45ecd5e7d",
   "metadata": {},
   "outputs": [
    {
     "name": "stdout",
     "output_type": "stream",
     "text": [
      "[10 12 14 16 18 20 22 24 26 28 30 32 34 36 38 40 42 44 46 48 50 52 54 56\n",
      " 58 60 62 64 66 68 70 72 74 76 78 80 82 84 86 88 90 92 94 96 98]\n"
     ]
    }
   ],
   "source": [
    "# create an array of even nums between 10, 100\n",
    "\n",
    "even_nums = np.arange(10,100,2)\n",
    "print(even_nums)"
   ]
  },
  {
   "cell_type": "code",
   "execution_count": 9,
   "id": "d9654946-f967-415f-ac78-a10e0c0a6695",
   "metadata": {},
   "outputs": [
    {
     "data": {
      "text/plain": [
       "array([10, 12, 14, 16, 18, 20, 22, 24, 26, 28, 30, 32, 34, 36, 38, 40, 42,\n",
       "       44, 46, 48, 50, 52, 54, 56, 58, 60, 62, 64, 66, 68, 70, 72, 74, 76,\n",
       "       78, 80, 82, 84, 86, 88, 90, 92, 94, 96, 98])"
      ]
     },
     "execution_count": 9,
     "metadata": {},
     "output_type": "execute_result"
    }
   ],
   "source": [
    "np.arange(10,100,2)"
   ]
  },
  {
   "cell_type": "code",
   "execution_count": 61,
   "id": "e80be69b-26c3-4f8b-ab4c-ef249d454f68",
   "metadata": {},
   "outputs": [
    {
     "name": "stdout",
     "output_type": "stream",
     "text": [
      "[11 13 15 17 19 21 23 25 27 29 31 33 35 37 39 41 43 45 47 49 51 53 55 57\n",
      " 59 61 63 65 67 69 71 73 75 77 79 81 83 85 87 89 91 93 95 97 99]\n"
     ]
    }
   ],
   "source": [
    "odd_nums = np.arange(11,100,2)\n",
    "print(odd_nums)"
   ]
  },
  {
   "cell_type": "markdown",
   "id": "0a15cac9-5c0f-4bbc-a293-f8022edc720d",
   "metadata": {},
   "source": [
    "**LINSPACE**"
   ]
  },
  {
   "cell_type": "code",
   "execution_count": 64,
   "id": "f036e756-1b20-4962-b7f2-8aa1af09c075",
   "metadata": {},
   "outputs": [
    {
     "data": {
      "text/plain": [
       "array([  1.  ,  25.75,  50.5 ,  75.25, 100.  ])"
      ]
     },
     "execution_count": 64,
     "metadata": {},
     "output_type": "execute_result"
    }
   ],
   "source": [
    "# returns evenly spaced numbers \n",
    "np.linspace(1,100,5)"
   ]
  },
  {
   "cell_type": "code",
   "execution_count": 23,
   "id": "5b239617-e677-4263-9eaf-7aabd49f1e79",
   "metadata": {},
   "outputs": [
    {
     "data": {
      "text/plain": [
       "array([  1.        ,  23.11111111,  45.22222222,  67.33333333,\n",
       "        89.44444444, 111.55555556, 133.66666667, 155.77777778,\n",
       "       177.88888889, 200.        ])"
      ]
     },
     "execution_count": 23,
     "metadata": {},
     "output_type": "execute_result"
    }
   ],
   "source": [
    "np.linspace(1,200,10)"
   ]
  },
  {
   "cell_type": "code",
   "execution_count": 70,
   "id": "520d6fa6-2fed-4a56-b168-a0d16aeda63f",
   "metadata": {},
   "outputs": [
    {
     "data": {
      "text/plain": [
       "array([0., 0., 0., 0., 0.])"
      ]
     },
     "execution_count": 70,
     "metadata": {},
     "output_type": "execute_result"
    }
   ],
   "source": [
    "np.zeros(5)"
   ]
  },
  {
   "cell_type": "code",
   "execution_count": 72,
   "id": "794ef64b-600d-41b3-873d-6c4f24a1e11d",
   "metadata": {},
   "outputs": [
    {
     "data": {
      "text/plain": [
       "array([1., 1., 1., 1., 1.])"
      ]
     },
     "execution_count": 72,
     "metadata": {},
     "output_type": "execute_result"
    }
   ],
   "source": [
    "np.ones(5)"
   ]
  },
  {
   "cell_type": "code",
   "execution_count": 19,
   "id": "8b1775ce-c2e7-47a3-9118-e0dcf4fdf357",
   "metadata": {},
   "outputs": [
    {
     "data": {
      "text/plain": [
       "array([[6.23042070e-307, 4.67296746e-307, 1.69121096e-306],\n",
       "       [3.00396005e-307, 2.67017691e-306, 1.05699581e-307]])"
      ]
     },
     "execution_count": 19,
     "metadata": {},
     "output_type": "execute_result"
    }
   ],
   "source": [
    "np.empty((2,3), 'float')"
   ]
  },
  {
   "cell_type": "code",
   "execution_count": 5,
   "id": "b0d0ee0e-6aee-431d-a02a-75bcb0d8f591",
   "metadata": {},
   "outputs": [
    {
     "data": {
      "text/plain": [
       "array([[None, None, None],\n",
       "       [None, None, None]], dtype=object)"
      ]
     },
     "execution_count": 5,
     "metadata": {},
     "output_type": "execute_result"
    }
   ],
   "source": [
    "import numpy as np\n",
    "np.empty((2,3), 'object')"
   ]
  },
  {
   "cell_type": "code",
   "execution_count": 80,
   "id": "8c46d915-5d18-4c3c-8c39-51233e4f17ee",
   "metadata": {},
   "outputs": [
    {
     "data": {
      "text/plain": [
       "array([[-1574038400,         463,           0],\n",
       "       [          0,           1,  1684107122]])"
      ]
     },
     "execution_count": 80,
     "metadata": {},
     "output_type": "execute_result"
    }
   ],
   "source": [
    "np.empty((2,3), 'int')"
   ]
  },
  {
   "cell_type": "code",
   "execution_count": 9,
   "id": "099685d7-f2b3-4c19-b8b7-3a3d034b3c77",
   "metadata": {},
   "outputs": [
    {
     "data": {
      "text/plain": [
       "array([[15, 15, 15, 15],\n",
       "       [15, 15, 15, 15],\n",
       "       [15, 15, 15, 15]])"
      ]
     },
     "execution_count": 9,
     "metadata": {},
     "output_type": "execute_result"
    }
   ],
   "source": [
    "np.full((3,4), fill_value=15)"
   ]
  },
  {
   "cell_type": "code",
   "execution_count": 84,
   "id": "d28956ed-073e-4fa5-923a-1e81a09f3da6",
   "metadata": {},
   "outputs": [
    {
     "data": {
      "text/plain": [
       "array([[1., 0., 0., 0., 0.],\n",
       "       [0., 1., 0., 0., 0.],\n",
       "       [0., 0., 1., 0., 0.],\n",
       "       [0., 0., 0., 1., 0.],\n",
       "       [0., 0., 0., 0., 1.]])"
      ]
     },
     "execution_count": 84,
     "metadata": {},
     "output_type": "execute_result"
    }
   ],
   "source": [
    "np.identity(5)"
   ]
  },
  {
   "cell_type": "code",
   "execution_count": 88,
   "id": "e8225d18-9c62-485e-b938-159759d57523",
   "metadata": {},
   "outputs": [
    {
     "data": {
      "text/plain": [
       "array([[1., 0., 0.],\n",
       "       [0., 1., 0.],\n",
       "       [0., 0., 1.]])"
      ]
     },
     "execution_count": 88,
     "metadata": {},
     "output_type": "execute_result"
    }
   ],
   "source": [
    "np.identity(3)"
   ]
  },
  {
   "cell_type": "code",
   "execution_count": 90,
   "id": "61a6ecf5-ec66-45e8-81fe-3ff61953f28e",
   "metadata": {},
   "outputs": [
    {
     "data": {
      "text/plain": [
       "array([[1., 0., 0., 0., 0.],\n",
       "       [0., 1., 0., 0., 0.],\n",
       "       [0., 0., 1., 0., 0.],\n",
       "       [0., 0., 0., 1., 0.],\n",
       "       [0., 0., 0., 0., 1.]])"
      ]
     },
     "execution_count": 90,
     "metadata": {},
     "output_type": "execute_result"
    }
   ],
   "source": [
    "np.eye(5,5,0)"
   ]
  },
  {
   "cell_type": "code",
   "execution_count": 92,
   "id": "dbf74cae-3d2e-4c46-b3b3-320c0ec92dfb",
   "metadata": {},
   "outputs": [
    {
     "data": {
      "text/plain": [
       "array([[0., 1., 0., 0., 0.],\n",
       "       [0., 0., 1., 0., 0.],\n",
       "       [0., 0., 0., 1., 0.],\n",
       "       [0., 0., 0., 0., 1.],\n",
       "       [0., 0., 0., 0., 0.]])"
      ]
     },
     "execution_count": 92,
     "metadata": {},
     "output_type": "execute_result"
    }
   ],
   "source": [
    "np.eye(5,5,1)"
   ]
  },
  {
   "cell_type": "code",
   "execution_count": 94,
   "id": "22edca4e-4edd-48ea-9c11-ead59410f7eb",
   "metadata": {},
   "outputs": [
    {
     "data": {
      "text/plain": [
       "array([[0., 0., 0., 0., 0.],\n",
       "       [0., 0., 0., 0., 0.],\n",
       "       [0., 0., 0., 0., 0.],\n",
       "       [1., 0., 0., 0., 0.],\n",
       "       [0., 1., 0., 0., 0.]])"
      ]
     },
     "execution_count": 94,
     "metadata": {},
     "output_type": "execute_result"
    }
   ],
   "source": [
    "np.eye(5,5,-3)"
   ]
  },
  {
   "cell_type": "markdown",
   "id": "76ceb6ac-1cae-4b7a-81ad-56c897536e8a",
   "metadata": {},
   "source": [
    "**Attributes**"
   ]
  },
  {
   "cell_type": "code",
   "execution_count": 17,
   "id": "24a19439-3279-413f-8302-600f08727117",
   "metadata": {},
   "outputs": [
    {
     "data": {
      "text/plain": [
       "2"
      ]
     },
     "execution_count": 17,
     "metadata": {},
     "output_type": "execute_result"
    }
   ],
   "source": [
    "a = np.array(((1,2,3),(4,5,6)))\n",
    "a.ndim"
   ]
  },
  {
   "cell_type": "code",
   "execution_count": 15,
   "id": "f097488c-950c-4cdf-8ccf-3338d1eadb93",
   "metadata": {},
   "outputs": [
    {
     "name": "stdout",
     "output_type": "stream",
     "text": [
      " no of rows: 2\n",
      " No of Columns: 3\n"
     ]
    }
   ],
   "source": [
    "rows, cols = a.shape\n",
    "\n",
    "print(f' no of rows: {rows}\\n No of Columns: {cols}')"
   ]
  },
  {
   "cell_type": "code",
   "execution_count": 112,
   "id": "b24d188e-dcb1-453d-b08d-7978f6bbc4b3",
   "metadata": {},
   "outputs": [
    {
     "name": "stdout",
     "output_type": "stream",
     "text": [
      " size of array : 6\n"
     ]
    }
   ],
   "source": [
    "size = a.size\n",
    "print(f' size of array : {size}')"
   ]
  },
  {
   "cell_type": "code",
   "execution_count": 29,
   "id": "bdc1fcdb-6927-4ae0-a4f3-7716a719a38e",
   "metadata": {},
   "outputs": [
    {
     "data": {
      "text/plain": [
       "<matplotlib.image.AxesImage at 0x1f60c0c7ef0>"
      ]
     },
     "execution_count": 29,
     "metadata": {},
     "output_type": "execute_result"
    },
    {
     "data": {
      "image/png": "[encoded data removed]",
      "text/plain": [
       "<Figure size 640x480 with 1 Axes>"
      ]
     },
     "metadata": {},
     "output_type": "display_data"
    }
   ],
   "source": [
    "import matplotlib.pyplot as plt\n",
    "\n",
    "im = plt.imread(\"Image.png\")\n",
    "plt.imshow(im)"
   ]
  },
  {
   "cell_type": "code",
   "execution_count": 29,
   "id": "80e9b277-6679-4006-93cf-88840a9ba5c9",
   "metadata": {},
   "outputs": [
    {
     "ename": "SyntaxError",
     "evalue": "not a PNG file (<string>)",
     "output_type": "error",
     "traceback": [
      "Traceback \u001b[1;36m(most recent call last)\u001b[0m:\n",
      "\u001b[0m  File \u001b[0;32mC:\\ProgramData\\anaconda3\\Lib\\site-packages\\IPython\\core\\interactiveshell.py:3577\u001b[0m in \u001b[0;35mrun_code\u001b[0m\n    exec(code_obj, self.user_global_ns, self.user_ns)\u001b[0m\n",
      "\u001b[0m  Cell \u001b[0;32mIn[29], line 3\u001b[0m\n    im = plt.imread(\"HorseBreeds.png\")\u001b[0m\n",
      "\u001b[0m  File \u001b[0;32mC:\\ProgramData\\anaconda3\\Lib\\site-packages\\matplotlib\\pyplot.py:2404\u001b[0m in \u001b[0;35mimread\u001b[0m\n    return matplotlib.image.imread(fname, format)\u001b[0m\n",
      "\u001b[0m  File \u001b[0;32mC:\\ProgramData\\anaconda3\\Lib\\site-packages\\matplotlib\\image.py:1525\u001b[0m in \u001b[0;35mimread\u001b[0m\n    with img_open(fname) as image:\u001b[0m\n",
      "\u001b[0m  File \u001b[0;32mC:\\ProgramData\\anaconda3\\Lib\\site-packages\\PIL\\ImageFile.py:137\u001b[0m in \u001b[0;35m__init__\u001b[0m\n    self._open()\u001b[0m\n",
      "\u001b[1;36m  File \u001b[1;32mC:\\ProgramData\\anaconda3\\Lib\\site-packages\\PIL\\PngImagePlugin.py:707\u001b[1;36m in \u001b[1;35m_open\u001b[1;36m\n\u001b[1;33m    raise SyntaxError(msg)\u001b[1;36m\n",
      "\u001b[1;36m  File \u001b[1;32m<string>\u001b[1;36m\u001b[0m\n\u001b[1;31mSyntaxError\u001b[0m\u001b[1;31m:\u001b[0m not a PNG file\n"
     ]
    }
   ],
   "source": [
    "import matplotlib.pyplot as plt\n",
    "\n",
    "im = plt.imread(\"HorseBreeds.png\")\n",
    "plt.imshow(im)"
   ]
  },
  {
   "cell_type": "code",
   "execution_count": 120,
   "id": "13de1126-3b7d-4367-b789-be44422bd4ec",
   "metadata": {},
   "outputs": [
    {
     "name": "stdout",
     "output_type": "stream",
     "text": [
      "dtype of the elements in the array : float64\n"
     ]
    }
   ],
   "source": [
    "weight_age = np.array([(3.3, 4.2,5.7), (1,0.4,9.4)])\n",
    "\n",
    "print(\"dtype of the elements in the array :\",  weight_age.dtype)"
   ]
  },
  {
   "cell_type": "code",
   "execution_count": 71,
   "id": "b7459f41-4316-4c49-b409-66aa2467ba3d",
   "metadata": {},
   "outputs": [
    {
     "name": "stdout",
     "output_type": "stream",
     "text": [
      "[1 2 3 4 5 6]\n",
      " Num of dim: 1\n",
      " shape : (6,)\n",
      " size: 6\n",
      "[[1 2 3]\n",
      " [4 5 6]]\n"
     ]
    }
   ],
   "source": [
    "arr = np.array([1,2,3,4,5,6])\n",
    "dimension = arr.ndim\n",
    "shape = arr.shape\n",
    "size = arr.size\n",
    "print(arr)\n",
    "print(f' Num of dim: {dimension}\\n shape : {shape}\\n size: {size}')\n",
    "\n",
    "reshape = arr.reshape(2,3)\n",
    "print(reshape)"
   ]
  },
  {
   "cell_type": "code",
   "execution_count": 25,
   "id": "70cab944-4b72-40b5-a820-3875a41d2e38",
   "metadata": {},
   "outputs": [
    {
     "name": "stdout",
     "output_type": "stream",
     "text": [
      "created array : [['Charles' '18']\n",
      " ['Logan' '20']\n",
      " ['Jessica' '34']]\n",
      "\n",
      "Reshaped array : [['Charles']\n",
      " ['18']\n",
      " ['Logan']\n",
      " ['20']\n",
      " ['Jessica']\n",
      " ['34']]\n"
     ]
    }
   ],
   "source": [
    "employee = np.array([(\"Charles\", 18), (\"Logan\", 20), (\"Jessica\",34)])\n",
    "print(\"created array :\", employee)\n",
    "\n",
    "employee_reshaped = employee.reshape(6,1)\n",
    "\n",
    "print(\"\\nReshaped array :\", employee_reshaped)"
   ]
  },
  {
   "cell_type": "code",
   "execution_count": 11,
   "id": "091d2617-b61b-49bf-aeaa-99781ae38469",
   "metadata": {},
   "outputs": [
    {
     "name": "stdout",
     "output_type": "stream",
     "text": [
      "[ 1  2  3  4  5  6  7  8  9 10]\n"
     ]
    }
   ],
   "source": [
    "a = np.arange(1,11)\n",
    "\n",
    "#sliced = a[1:4]\n",
    "print (a)"
   ]
  },
  {
   "cell_type": "code",
   "execution_count": 33,
   "id": "0ea7947c-c46c-48c9-837d-244bfc753b21",
   "metadata": {},
   "outputs": [
    {
     "data": {
      "text/plain": [
       "array([7, 8])"
      ]
     },
     "execution_count": 33,
     "metadata": {},
     "output_type": "execute_result"
    }
   ],
   "source": [
    "b = a.reshape(2,5)\n",
    "b[1][1:3]"
   ]
  },
  {
   "cell_type": "code",
   "execution_count": 132,
   "id": "d471cbd7-ee3a-4c0f-8e9d-fc2f7466adcc",
   "metadata": {},
   "outputs": [
    {
     "data": {
      "text/plain": [
       "array([[ 1,  2,  3,  4,  5],\n",
       "       [ 6,  7,  8,  9, 10]])"
      ]
     },
     "execution_count": 132,
     "metadata": {},
     "output_type": "execute_result"
    }
   ],
   "source": [
    "b"
   ]
  },
  {
   "cell_type": "code",
   "execution_count": 138,
   "id": "acb63faf-eb6c-4f77-a657-44188f46e900",
   "metadata": {},
   "outputs": [
    {
     "data": {
      "text/plain": [
       "array([1, 2])"
      ]
     },
     "execution_count": 138,
     "metadata": {},
     "output_type": "execute_result"
    }
   ],
   "source": [
    "b[0][0:2]"
   ]
  },
  {
   "cell_type": "code",
   "execution_count": 144,
   "id": "21692c06-8507-48eb-9db3-4cc3d63c166a",
   "metadata": {},
   "outputs": [
    {
     "data": {
      "text/plain": [
       "array([6, 7, 8])"
      ]
     },
     "execution_count": 144,
     "metadata": {},
     "output_type": "execute_result"
    }
   ],
   "source": [
    "b[1][0:3]"
   ]
  },
  {
   "cell_type": "code",
   "execution_count": 146,
   "id": "b85f8471-b6d3-46ef-b4fb-1465251c09c0",
   "metadata": {},
   "outputs": [
    {
     "name": "stdout",
     "output_type": "stream",
     "text": [
      "element wise multiplication :\n",
      " [[ 4  0  2]\n",
      " [ 8 -6 15]]\n"
     ]
    }
   ],
   "source": [
    "# Matrix Multiplication\n",
    "m1 = np.array([(1,0,2), (4,-2,3)])\n",
    "m2 = np.array([(4,0,1), (2,3,5)])\n",
    "\n",
    "prod = m1*m2\n",
    "print('element wise multiplication :\\n', prod)"
   ]
  },
  {
   "cell_type": "code",
   "execution_count": 148,
   "id": "72155874-9803-42fe-a2ac-0a2ac16ece53",
   "metadata": {},
   "outputs": [
    {
     "name": "stdout",
     "output_type": "stream",
     "text": [
      "Matrix multiplication: \n",
      " [[ 26  90]\n",
      " [ 47 117]]\n"
     ]
    }
   ],
   "source": [
    "m1 = np.array([(1,0,2), (4,-2,3)])\n",
    "m2 = np.array([(4,0), (1,9), (11,45)])\n",
    "\n",
    "multi = m1.dot(m2)\n",
    "print('Matrix multiplication: \\n', multi )"
   ]
  },
  {
   "cell_type": "code",
   "execution_count": 150,
   "id": "17b94061-ccf1-414e-8159-555477aec8bd",
   "metadata": {},
   "outputs": [
    {
     "name": "stdout",
     "output_type": "stream",
     "text": [
      "Minimum salary in the array :  10000\n"
     ]
    }
   ],
   "source": [
    "salary = np.array([100000, 78000, 27000, 90000,10000])\n",
    "print('Minimum salary in the array : ', salary.min())"
   ]
  },
  {
   "cell_type": "code",
   "execution_count": 154,
   "id": "49920794-2975-408d-b81f-6407d62b6d34",
   "metadata": {},
   "outputs": [
    {
     "name": "stdout",
     "output_type": "stream",
     "text": [
      "Maximum salary in the array :  120000\n"
     ]
    }
   ],
   "source": [
    "salary = np.array([120000, 78000, 27000, 90000,10000])\n",
    "print('Maximum salary in the array : ', salary.max())"
   ]
  },
  {
   "cell_type": "code",
   "execution_count": 156,
   "id": "e7769fce-0268-42ae-bf1f-d892426e0085",
   "metadata": {},
   "outputs": [
    {
     "name": "stdout",
     "output_type": "stream",
     "text": [
      "variance in the salary :  1657600000.0\n"
     ]
    }
   ],
   "source": [
    "salary = np.array([120000, 78000, 27000, 90000,10000])\n",
    "print('variance in the salary : ', salary.var())"
   ]
  },
  {
   "cell_type": "code",
   "execution_count": 158,
   "id": "76b1506f-1056-49f5-883d-e462f8728b29",
   "metadata": {},
   "outputs": [
    {
     "name": "stdout",
     "output_type": "stream",
     "text": [
      "Standard deviation in the employee salaries is :  40713.634079998315\n"
     ]
    }
   ],
   "source": [
    "salary = np.array([120000, 78000, 27000, 90000,10000])\n",
    "print('Standard deviation in the employee salaries is : ', salary.std())"
   ]
  },
  {
   "cell_type": "code",
   "execution_count": 21,
   "id": "9cca4511-78a2-4043-bd76-39aa91f0fe08",
   "metadata": {},
   "outputs": [
    {
     "name": "stdout",
     "output_type": "stream",
     "text": [
      "Area of squares : [ 121 1225  100 7744  841]\n"
     ]
    }
   ],
   "source": [
    "sq_sides = np.array([11,35,10,88,29])\n",
    "print('Area of squares :', np.square(sq_sides))"
   ]
  },
  {
   "cell_type": "code",
   "execution_count": 166,
   "id": "30ec65a1-62c0-4727-a495-51678fb71b29",
   "metadata": {},
   "outputs": [
    {
     "name": "stdout",
     "output_type": "stream",
     "text": [
      "Volume of cubes : [  1331 778688  10648  35937  85184]\n"
     ]
    }
   ],
   "source": [
    "cube_sides = np.array([11,92,22,33,44])\n",
    "print('Volume of cubes :', np.power(cube_sides,3))"
   ]
  },
  {
   "cell_type": "code",
   "execution_count": 39,
   "id": "748fe199-aed9-4e12-a2b7-6958e0937222",
   "metadata": {},
   "outputs": [
    {
     "name": "stdout",
     "output_type": "stream",
     "text": [
      "\n",
      "Original Matrix : \n",
      " [['Charles' '18']\n",
      " ['Logan' '20']\n",
      " ['Jessica' '25']]\n",
      "\n",
      "Transpose Matrix : \n",
      " [['Charles' 'Logan' 'Jessica']\n",
      " ['18' '20' '25']]\n"
     ]
    }
   ],
   "source": [
    "# create an array of name and age of data scientists\n",
    "data_scientists = np.array([(\"Charles\",18), (\"Logan\", 20), (\"Jessica\", 25)])\n",
    "print(\"\\nOriginal Matrix : \\n\", data_scientists)\n",
    "\n",
    "print(\"\\nTranspose Matrix : \\n\", np.transpose(data_scientists))"
   ]
  },
  {
   "cell_type": "code",
   "execution_count": 170,
   "id": "2a7d12e0-9518-4233-bdda-7f37f1837b8b",
   "metadata": {},
   "outputs": [
    {
     "name": "stdout",
     "output_type": "stream",
     "text": [
      "All Employees : [['Charles' '18']\n",
      " ['Logan' '20']\n",
      " ['Jessica' '25']\n",
      " ['Jean' '22']\n",
      " ['Phoenix' '21']]\n"
     ]
    }
   ],
   "source": [
    "# Concatenate 2D array\n",
    "data_scientists = np.array([(\"Charles\",18), (\"Logan\", 20), (\"Jessica\", 25)])\n",
    "consultants = np.array([[\"Jean\", 22], [\"Phoenix\", 21]])\n",
    "\n",
    "employee = np.concatenate([data_scientists, consultants])\n",
    "print('All Employees :', employee)"
   ]
  },
  {
   "cell_type": "code",
   "execution_count": 16,
   "id": "8fe8b650-03e5-4ce2-a689-731585957615",
   "metadata": {},
   "outputs": [
    {
     "name": "stdout",
     "output_type": "stream",
     "text": [
      "Original array:\n",
      " [[1 2 4 6]\n",
      " [2 4 5 7]]\n",
      "flattened array:\n",
      " [1 2 4 6 2 4 5 7]\n"
     ]
    }
   ],
   "source": [
    "# create 2D array\n",
    "import numpy as np\n",
    "num_array = np.array([(1,2,4,6), (2,4,5,7)])\n",
    "print(\"Original array:\\n\" , num_array)\n",
    "\n",
    "#flatten the array into 1D\n",
    "print(\"flattened array:\\n\", np.ndarray.flatten(num_array))"
   ]
  },
  {
   "cell_type": "code",
   "execution_count": 25,
   "id": "0443bb12-a320-44ab-94bd-af4524057514",
   "metadata": {},
   "outputs": [
    {
     "name": "stdout",
     "output_type": "stream",
     "text": [
      "Before reshaping :  [11 12 13 14 15 16 17 18 19 20 21 22]\n",
      "After reshaping : \n",
      " [[11 12 13 14]\n",
      " [15 16 17 18]\n",
      " [19 20 21 22]]\n"
     ]
    }
   ],
   "source": [
    "import numpy as np\n",
    "arr = np.array([11,12,13,14,15,16,17,18,19,20,21,22])\n",
    "newarr = arr.reshape(3,4)\n",
    "print('Before reshaping : ', arr)\n",
    "print('After reshaping : \\n', newarr)"
   ]
  },
  {
   "cell_type": "code",
   "execution_count": 25,
   "id": "40acfbda-e1e4-4c70-ad37-e9a8688bbc7a",
   "metadata": {},
   "outputs": [
    {
     "data": {
      "text/plain": [
       "array([[ 5],\n",
       "       [ 6],\n",
       "       [98],\n",
       "       [33],\n",
       "       [41]])"
      ]
     },
     "execution_count": 25,
     "metadata": {},
     "output_type": "execute_result"
    }
   ],
   "source": [
    "# vertical stack\n",
    "a = np.array([5,6,98,33,41])\n",
    "np.vstack(a)"
   ]
  },
  {
   "cell_type": "code",
   "execution_count": 27,
   "id": "f2926485-963e-48f0-88f2-010005f86aa0",
   "metadata": {},
   "outputs": [
    {
     "data": {
      "text/plain": [
       "array([[ 1,  2,  3, 45, 22],\n",
       "       [11, 98, 21, 34, 66],\n",
       "       [ 1,  2,  3, 45, 22],\n",
       "       [ 1,  2,  3, 45, 22],\n",
       "       [11, 98, 21, 34, 66]])"
      ]
     },
     "execution_count": 27,
     "metadata": {},
     "output_type": "execute_result"
    }
   ],
   "source": [
    "# vertically stacking vectors\n",
    "v1 = np.array([1,2,3,45,22])\n",
    "v2 = np.array([11,98,21,34,66])\n",
    "\n",
    "np.vstack([v1,v2,v1,v1,v2])"
   ]
  },
  {
   "cell_type": "code",
   "execution_count": 17,
   "id": "b464889c-1cf7-474c-82bc-26910024fd41",
   "metadata": {},
   "outputs": [
    {
     "data": {
      "text/plain": [
       "array([[1., 1., 1., 1., 0., 0.],\n",
       "       [1., 1., 1., 1., 0., 0.]])"
      ]
     },
     "execution_count": 17,
     "metadata": {},
     "output_type": "execute_result"
    }
   ],
   "source": [
    "# horizontal stack\n",
    "h1 = np.ones((2,4))\n",
    "h2 = np.zeros((2,2))\n",
    "\n",
    "np.hstack([h1,h2])"
   ]
  },
  {
   "cell_type": "code",
   "execution_count": 27,
   "id": "3e22a3f8-c55e-44ea-aabf-c6b06f83fee4",
   "metadata": {},
   "outputs": [
    {
     "data": {
      "text/plain": [
       "array([[1., 0., 0., 1.]])"
      ]
     },
     "execution_count": 27,
     "metadata": {},
     "output_type": "execute_result"
    }
   ],
   "source": [
    "h1 = np.ones((1,1))\n",
    "h2 = np.zeros((1,1))\n",
    "\n",
    "np.hstack([h1,h2,h2,h1])"
   ]
  },
  {
   "cell_type": "code",
   "execution_count": 33,
   "id": "e7fced7e-f5d6-4c02-b913-6a340c1cdd08",
   "metadata": {},
   "outputs": [
    {
     "name": "stdout",
     "output_type": "stream",
     "text": [
      "[[ 4  5 11 33]\n",
      " [ 5  5  6  7]]\n",
      "hstack:  [ 4  5 11 33  5  5  6  7]\n"
     ]
    }
   ],
   "source": [
    "# Horizontal stack (hstack)\n",
    "a = np.array([(4,5,11,33), (5,5,6,7)])\n",
    "print(a)\n",
    "\n",
    "h = np.hstack(a)\n",
    "print('hstack: ',h)"
   ]
  },
  {
   "cell_type": "code",
   "execution_count": 31,
   "id": "aedf1f1a-89e2-4769-bfba-f8e64557af61",
   "metadata": {},
   "outputs": [
    {
     "name": "stdout",
     "output_type": "stream",
     "text": [
      "The array books is  1 dimensional array\n",
      "\n",
      "Data science\n",
      "Machine learning\n",
      "Deep Learning\n"
     ]
    }
   ],
   "source": [
    "#create an array of books\n",
    "books = np.array(['Data science', 'Machine learning', 'Deep Learning'])\n",
    "\n",
    "print(\"The array books is \", books.ndim, \"dimensional array\\n\")\n",
    "\n",
    "for i in books:\n",
    "    print(i)"
   ]
  },
  {
   "cell_type": "code",
   "execution_count": 43,
   "id": "c1bd8360-a42e-4600-b910-c2975ae62c62",
   "metadata": {},
   "outputs": [
    {
     "name": "stdout",
     "output_type": "stream",
     "text": [
      "The array 'books' is  2 dimensional array\n",
      "\n",
      "['Data science' 'Machine learning' 'Deep Learning']\n",
      "['24' '55' '78']\n"
     ]
    }
   ],
   "source": [
    "books = np.array([['Data science', 'Machine learning', 'Deep Learning'],[24,55,78]])\n",
    "\n",
    "print(\"The array 'books' is \", books.ndim, \"dimensional array\\n\")\n",
    "\n",
    "for i in books:\n",
    "    print(i)"
   ]
  },
  {
   "cell_type": "code",
   "execution_count": 45,
   "id": "3f173c81-c1a0-4ea5-9b82-07991ae1bf76",
   "metadata": {},
   "outputs": [
    {
     "name": "stdout",
     "output_type": "stream",
     "text": [
      "The array 'books' is  2 dimensional array\n",
      "\n",
      "Data science\n",
      "Machine learning\n",
      "Deep Learning\n",
      "24\n",
      "55\n",
      "78\n"
     ]
    }
   ],
   "source": [
    "# nested loops\n",
    "books = np.array([['Data science', 'Machine learning', 'Deep Learning'],[24,55,78]])\n",
    "\n",
    "print(\"The array 'books' is \", books.ndim, \"dimensional array\\n\")\n",
    "\n",
    "for i in books:\n",
    "    for j in i:\n",
    "        print(j)"
   ]
  },
  {
   "cell_type": "code",
   "execution_count": 66,
   "id": "1d684c8a-3402-4c3f-9740-a87e6cbf4599",
   "metadata": {},
   "outputs": [
    {
     "name": "stdout",
     "output_type": "stream",
     "text": [
      "Time taken by lists : 0.020920991897583008 seconds\n"
     ]
    }
   ],
   "source": [
    "# importing required libraries\n",
    "import numpy\n",
    "import time\n",
    "\n",
    "# declare the size of arrays and lists\n",
    "size = 100000\n",
    "\n",
    "#create a list\n",
    "num_list1 = range(size)\n",
    "num_list2 = range(size)\n",
    "\n",
    "#list\n",
    "initialTime = time.time()\n",
    "resultant_list = [(a * b) for a,b in zip(num_list1, num_list2)]\n",
    "\n",
    "#calculate execution time\n",
    "print(\"Time taken by lists :\",\n",
    "     (time.time() - initialTime),\n",
    "     \"seconds\")"
   ]
  },
  {
   "cell_type": "code",
   "execution_count": 65,
   "id": "da15edaf-2b43-4d7d-ab19-5b3fb28c4a2c",
   "metadata": {},
   "outputs": [
    {
     "name": "stdout",
     "output_type": "stream",
     "text": [
      "Time taken by arrays : 0.0013880729675292969 Seconds\n"
     ]
    }
   ],
   "source": [
    "#create a array\n",
    "num_array1 = numpy.arange(size)\n",
    "num_array2 = numpy.arange(size)\n",
    "\n",
    "#numpy array\n",
    "initialTime = time.time()\n",
    "resultants_array = num_array1 * num_array2\n",
    "\n",
    "#calculate execution time\n",
    "print('Time taken by arrays :', \n",
    "     (time.time() - initialTime),\n",
    "     \"Seconds\")"
   ]
  },
  {
   "cell_type": "code",
   "execution_count": null,
   "id": "f267daee-7ed8-4256-8c1b-b0c15f58ca89",
   "metadata": {},
   "outputs": [],
   "source": []
  },
  {
   "cell_type": "code",
   "execution_count": 69,
   "id": "0c6b28a1-58bc-47d6-a5c8-67af8d73820e",
   "metadata": {},
   "outputs": [
    {
     "name": "stdout",
     "output_type": "stream",
     "text": [
      "The original string is:  Analytics Vidhya\n",
      "The reversed string is:  ayhdiV scitylanA\n"
     ]
    }
   ],
   "source": [
    "str1 = \"Analytics Vidhya\"\n",
    "str2 = \"\"\n",
    "for i in str1:\n",
    "    str2 = i + str2\n",
    "print(\"The original string is: \", str1)\n",
    "print(\"The reversed string is: \", str2)"
   ]
  },
  {
   "cell_type": "code",
   "execution_count": 33,
   "id": "7123add8-0e6f-4442-9bcb-905766f20537",
   "metadata": {},
   "outputs": [
    {
     "name": "stdout",
     "output_type": "stream",
     "text": [
      "['We', 'are', 'writing', 'blog']\n"
     ]
    }
   ],
   "source": [
    "lst1 = ['W', 'a', 'w', 'b']\n",
    "lst2 = ['e', 're', 'riting', 'log']\n",
    "lst3 = [x + y for x, y in zip(lst1, lst2)]\n",
    "print(lst3)"
   ]
  },
  {
   "cell_type": "markdown",
   "id": "bef4fba4-1208-4663-809c-dde974c9d6b5",
   "metadata": {},
   "source": [
    "LOOPS"
   ]
  },
  {
   "cell_type": "code",
   "execution_count": 19,
   "id": "c7c01d03-807b-4a58-bd09-36b6fc3727af",
   "metadata": {},
   "outputs": [],
   "source": [
    "from numpy import array"
   ]
  },
  {
   "cell_type": "code",
   "execution_count": 21,
   "id": "0f1670c1-bb2b-47dd-9a38-d521716b3bcd",
   "metadata": {},
   "outputs": [
    {
     "data": {
      "text/plain": [
       "array([[1, 2, 3, 4],\n",
       "       [5, 6, 7, 8]])"
      ]
     },
     "execution_count": 21,
     "metadata": {},
     "output_type": "execute_result"
    }
   ],
   "source": [
    "array1 = array([[1,2,3,4],[5,6,7,8]])\n",
    "array1"
   ]
  },
  {
   "cell_type": "code",
   "execution_count": 32,
   "id": "07e85d70-2437-44e0-a6fc-dc18a5aa9570",
   "metadata": {},
   "outputs": [
    {
     "name": "stdout",
     "output_type": "stream",
     "text": [
      "1 2 3 4 \n",
      "5 6 7 8 \n"
     ]
    }
   ],
   "source": [
    "for i in array1:\n",
    "    for j in i:\n",
    "        print(j, end = ' ')\n",
    "    print()"
   ]
  },
  {
   "cell_type": "code",
   "execution_count": 23,
   "id": "a60888ce-fca9-4d6c-aae5-4d7fb44ab220",
   "metadata": {},
   "outputs": [
    {
     "name": "stdout",
     "output_type": "stream",
     "text": [
      "[1 2 3 4]\n",
      "[5 6 7 8]\n"
     ]
    }
   ],
   "source": [
    "for i in array1:\n",
    "    print(i, end = '')\n",
    "    print()"
   ]
  },
  {
   "cell_type": "code",
   "execution_count": 36,
   "id": "fe874795-a9c6-4d34-8001-a6697ec796bb",
   "metadata": {},
   "outputs": [
    {
     "name": "stdout",
     "output_type": "stream",
     "text": [
      "3 \n",
      "6 \n"
     ]
    }
   ],
   "source": [
    "for i in array1:\n",
    "    for j in i:\n",
    "        if j%3 == 0:\n",
    "             print(j, end = ' ')\n",
    "    print()"
   ]
  },
  {
   "cell_type": "code",
   "execution_count": 7,
   "id": "2f63b7a7-4801-451e-a2a2-963a088564bc",
   "metadata": {},
   "outputs": [],
   "source": [
    "array1 = [1,2,3,4,5,6,7,8,9]"
   ]
  },
  {
   "cell_type": "code",
   "execution_count": 9,
   "id": "10000a5d-f802-411e-9da9-804ea5e66f76",
   "metadata": {},
   "outputs": [
    {
     "name": "stdout",
     "output_type": "stream",
     "text": [
      "[[1 2 3]\n",
      " [4 5 6]\n",
      " [7 8 9]]\n"
     ]
    }
   ],
   "source": [
    "arr = np.array([1,2,3,4,5,6,7,8,9])\n",
    "newarr = arr.reshape(3,3)\n",
    "print(newarr)"
   ]
  },
  {
   "cell_type": "code",
   "execution_count": 11,
   "id": "19ac39e5-53ba-46a0-a2d2-b0be234188bf",
   "metadata": {},
   "outputs": [
    {
     "data": {
      "text/plain": [
       "array([1, 2, 3, 4, 5, 6, 7, 8, 9])"
      ]
     },
     "execution_count": 11,
     "metadata": {},
     "output_type": "execute_result"
    }
   ],
   "source": [
    "arr.flatten()"
   ]
  },
  {
   "cell_type": "code",
   "execution_count": 15,
   "id": "9ba654f9-fbbf-478b-821d-385a9250df48",
   "metadata": {},
   "outputs": [
    {
     "data": {
      "text/plain": [
       "array([ 1,  4,  9, 16, 25, 36, 49, 64, 81])"
      ]
     },
     "execution_count": 15,
     "metadata": {},
     "output_type": "execute_result"
    }
   ],
   "source": [
    "np.square([1, 2, 3, 4, 5, 6, 7, 8, 9])"
   ]
  },
  {
   "cell_type": "code",
   "execution_count": 66,
   "id": "81c596f4-a2bd-4b80-9aab-4385d845b318",
   "metadata": {},
   "outputs": [
    {
     "name": "stdout",
     "output_type": "stream",
     "text": [
      "flattened_array : [1 2 3 4 5 6 7 8 9]\n"
     ]
    }
   ],
   "source": [
    "flattened_arr = arr.flatten()\n",
    "print(\"flattened_array :\", flattened_arr)"
   ]
  },
  {
   "cell_type": "code",
   "execution_count": null,
   "id": "fab453a9-fd08-4715-91b2-7e4be2de8de5",
   "metadata": {},
   "outputs": [],
   "source": []
  },
  {
   "cell_type": "code",
   "execution_count": 64,
   "id": "847f24ce-2104-42d5-9585-3018f29296a6",
   "metadata": {},
   "outputs": [
    {
     "name": "stdout",
     "output_type": "stream",
     "text": [
      "Area of squares : [ 1  4  9 16 25 36 49 64 81]\n"
     ]
    }
   ],
   "source": [
    "sq_sides  = np.array([1,2,3,4,5,6,7,8,9])\n",
    "print('Area of squares :', np.square(sq_sides))"
   ]
  },
  {
   "cell_type": "code",
   "execution_count": 33,
   "id": "2a5e6eb0-fa6b-40d9-9afc-a7ce826c2cf2",
   "metadata": {},
   "outputs": [
    {
     "data": {
      "text/plain": [
       "array([[0., 0., 0.],\n",
       "       [0., 0., 0.],\n",
       "       [0., 0., 0.]])"
      ]
     },
     "execution_count": 33,
     "metadata": {},
     "output_type": "execute_result"
    }
   ],
   "source": [
    "np.zeros((3,3))"
   ]
  },
  {
   "cell_type": "code",
   "execution_count": 38,
   "id": "94097e82-82ee-4fec-a418-0c5c6890b064",
   "metadata": {},
   "outputs": [
    {
     "name": "stdout",
     "output_type": "stream",
     "text": [
      "[[ 1  2  3  4  5]\n",
      " [ 6  7  8  9 10]\n",
      " [11 12 13 14 15]\n",
      " [16 17 18 19 20]]\n",
      "True\n"
     ]
    }
   ],
   "source": [
    "# check whether the list is present in the array or not\n",
    "import numpy \n",
    "  \n",
    "# create numpy array \n",
    "arr = np.array([[1, 2, 3, 4, 5], \n",
    "                   [6, 7, 8, 9, 10], \n",
    "                   [11, 12, 13, 14, 15], \n",
    "                   [16, 17, 18, 19, 20] \n",
    "                   ]) \n",
    "  \n",
    "# view array \n",
    "print(arr)\n",
    "\n",
    "print([1,2,3,4,5] in arr.tolist())"
   ]
  },
  {
   "cell_type": "code",
   "execution_count": 3,
   "id": "fe83c414-efc1-461a-bbf2-07fb5166db2d",
   "metadata": {},
   "outputs": [
    {
     "name": "stdout",
     "output_type": "stream",
     "text": [
      "[7 6 8 2 9 1] [[4 5 0 2]\n",
      " [1 8 4 8]\n",
      " [1 5 7 9]] [[[0 4 6 7 7]\n",
      "  [0 4 3 7 0]\n",
      "  [9 4 3 2 2]\n",
      "  [6 3 4 7 6]]\n",
      "\n",
      " [[6 9 8 5 4]\n",
      "  [6 3 7 8 3]\n",
      "  [2 4 8 4 6]\n",
      "  [5 2 8 6 7]]\n",
      "\n",
      " [[5 2 0 9 0]\n",
      "  [8 9 1 7 5]\n",
      "  [4 0 8 2 8]\n",
      "  [9 6 8 4 3]]]\n"
     ]
    }
   ],
   "source": [
    "import numpy as np\n",
    "x1 = np.random.randint(10, size=6) #one dimension\n",
    "x2 = np.random.randint(10, size=(3,4)) #two dimension\n",
    "x3 = np.random.randint(10, size=(3,4,5)) #three dimension\n",
    "print(x1,x2,x3)"
   ]
  },
  {
   "cell_type": "code",
   "execution_count": null,
   "id": "0522f1f9-02ef-4668-b825-ab9465ed9ec1",
   "metadata": {},
   "outputs": [],
   "source": []
  }
 ],
 "metadata": {
  "kernelspec": {
   "display_name": "Python 3 (ipykernel)",
   "language": "python",
   "name": "python3"
  },
  "language_info": {
   "codemirror_mode": {
    "name": "ipython",
    "version": 3
   },
   "file_extension": ".py",
   "mimetype": "text/x-python",
   "name": "python",
   "nbconvert_exporter": "python",
   "pygments_lexer": "ipython3",
   "version": "3.12.4"
  }
 },
 "nbformat": 4,
 "nbformat_minor": 5
}

{
 "cells": [
  {
   "cell_type": "code",
   "execution_count": 11,
   "id": "7e439b6e-629e-46a1-a66c-6909d7ec7330",
   "metadata": {},
   "outputs": [],
   "source": [
    "import seaborn as sns\n",
    "import pandas as pd\n",
    "import matplotlib.pyplot as plt"
   ]
  },
  {
   "cell_type": "code",
   "execution_count": 3,
   "id": "3d5e09ed-8ccc-4e3e-969a-e228603e8ff7",
   "metadata": {},
   "outputs": [],
   "source": [
    "data = sns.load_dataset('penguins')"
   ]
  },
  {
   "cell_type": "code",
   "execution_count": 23,
   "id": "d333b904-c9f8-43ec-a6be-f58f660e5fc7",
   "metadata": {},
   "outputs": [
    {
     "data": {
      "text/html": [
       "<div>\n",
       "<style scoped>\n",
       "    .dataframe tbody tr th:only-of-type {\n",
       "        vertical-align: middle;\n",
       "    }\n",
       "\n",
       "    .dataframe tbody tr th {\n",
       "        vertical-align: top;\n",
       "    }\n",
       "\n",
       "    .dataframe thead th {\n",
       "        text-align: right;\n",
       "    }\n",
       "</style>\n",
       "<table border=\"1\" class=\"dataframe\">\n",
       "  <thead>\n",
       "    <tr style=\"text-align: right;\">\n",
       "      <th></th>\n",
       "      <th>species</th>\n",
       "      <th>island</th>\n",
       "      <th>bill_length_mm</th>\n",
       "      <th>bill_depth_mm</th>\n",
       "      <th>flipper_length_mm</th>\n",
       "      <th>body_mass_g</th>\n",
       "      <th>sex</th>\n",
       "    </tr>\n",
       "  </thead>\n",
       "  <tbody>\n",
       "    <tr>\n",
       "      <th>0</th>\n",
       "      <td>Adelie</td>\n",
       "      <td>Torgersen</td>\n",
       "      <td>39.1</td>\n",
       "      <td>18.7</td>\n",
       "      <td>181.0</td>\n",
       "      <td>3750.0</td>\n",
       "      <td>Male</td>\n",
       "    </tr>\n",
       "    <tr>\n",
       "      <th>1</th>\n",
       "      <td>Adelie</td>\n",
       "      <td>Torgersen</td>\n",
       "      <td>39.5</td>\n",
       "      <td>17.4</td>\n",
       "      <td>186.0</td>\n",
       "      <td>3800.0</td>\n",
       "      <td>Female</td>\n",
       "    </tr>\n",
       "    <tr>\n",
       "      <th>2</th>\n",
       "      <td>Adelie</td>\n",
       "      <td>Torgersen</td>\n",
       "      <td>40.3</td>\n",
       "      <td>18.0</td>\n",
       "      <td>195.0</td>\n",
       "      <td>3250.0</td>\n",
       "      <td>Female</td>\n",
       "    </tr>\n",
       "    <tr>\n",
       "      <th>3</th>\n",
       "      <td>Adelie</td>\n",
       "      <td>Torgersen</td>\n",
       "      <td>NaN</td>\n",
       "      <td>NaN</td>\n",
       "      <td>NaN</td>\n",
       "      <td>NaN</td>\n",
       "      <td>NaN</td>\n",
       "    </tr>\n",
       "    <tr>\n",
       "      <th>4</th>\n",
       "      <td>Adelie</td>\n",
       "      <td>Torgersen</td>\n",
       "      <td>36.7</td>\n",
       "      <td>19.3</td>\n",
       "      <td>193.0</td>\n",
       "      <td>3450.0</td>\n",
       "      <td>Female</td>\n",
       "    </tr>\n",
       "  </tbody>\n",
       "</table>\n",
       "</div>"
      ],
      "text/plain": [
       "  species     island  bill_length_mm  bill_depth_mm  flipper_length_mm  \\\n",
       "0  Adelie  Torgersen            39.1           18.7              181.0   \n",
       "1  Adelie  Torgersen            39.5           17.4              186.0   \n",
       "2  Adelie  Torgersen            40.3           18.0              195.0   \n",
       "3  Adelie  Torgersen             NaN            NaN                NaN   \n",
       "4  Adelie  Torgersen            36.7           19.3              193.0   \n",
       "\n",
       "   body_mass_g     sex  \n",
       "0       3750.0    Male  \n",
       "1       3800.0  Female  \n",
       "2       3250.0  Female  \n",
       "3          NaN     NaN  \n",
       "4       3450.0  Female  "
      ]
     },
     "execution_count": 23,
     "metadata": {},
     "output_type": "execute_result"
    }
   ],
   "source": [
    "data.head()"
   ]
  },
  {
   "cell_type": "code",
   "execution_count": 17,
   "id": "5e2a7014-6a27-4cee-a1fd-23dd87ba3ceb",
   "metadata": {},
   "outputs": [],
   "source": [
    "def uniform(data:pd.Series) -> pd.Series:\n",
    "    length = data.size\n",
    "    dis = data.value_counts()/length\n",
    "\n",
    "    num_outcomes = data.nunique()\n",
    "    expected_frequency = length/ num_outcomes\n",
    "\n",
    "    actual_frequencies = data.value_counts()\n",
    "\n",
    "    fig, ax = plt.subplots()\n",
    "    ax.stem(actual_frequencies.index, actual_frequencies.values, linefmt = 'C0-', markerfmt = 'o', basefmt = 'C0-')\n",
    "    ax.axhline(y = expected_frequency, color = 'r', linestyle = '--', label = 'Expected Frequency')\n",
    "    ax.set_xlabel('Event')\n",
    "    ax.set_ylabel('Frequency')\n",
    "    ax.set_title('Event Distribution')\n",
    "    plt.legend()\n",
    "    plt.show()\n",
    "    return dis"
   ]
  },
  {
   "cell_type": "code",
   "execution_count": 1,
   "id": "fd6f983c-08b0-492b-bc04-c17cb72a7d43",
   "metadata": {},
   "outputs": [
    {
     "name": "stderr",
     "output_type": "stream",
     "text": [
      "C:\\Users\\Raksha Chavan\\AppData\\Local\\Temp\\ipykernel_14612\\3399653164.py:12: UserWarning: \n",
      "\n",
      "`distplot` is a deprecated function and will be removed in seaborn v0.14.0.\n",
      "\n",
      "Please adapt your code to use either `displot` (a figure-level function with\n",
      "similar flexibility) or `histplot` (an axes-level function for histograms).\n",
      "\n",
      "For a guide to updating your code to use the new functions, please see\n",
      "https://gist.github.com/mwaskom/de44147ed2974457ad6372750bbe5751\n",
      "\n",
      "  ax = sb.distplot(data, bins = 30, color = 'k')\n"
     ]
    },
    {
     "data": {
      "image/png": "[encoded data removed]",
      "text/plain": [
       "<Figure size 640x480 with 1 Axes>"
      ]
     },
     "metadata": {},
     "output_type": "display_data"
    }
   ],
   "source": [
    "#Importing required libraries\n",
    "from scipy.stats import uniform\n",
    "import seaborn as sb\n",
    "import matplotlib.pyplot as plt\n",
    "import numpy as np\n",
    " \n",
    "#taking random variables from Uniform distribution\n",
    "data = uniform.rvs(size = 100000, loc = 5, scale=10)\n",
    " \n",
    "#Plotting the results\n",
    "sb.set_style('whitegrid')\n",
    "ax = sb.distplot(data, bins = 30, color = 'k')\n",
    "ax.set(xlabel = 'interval')\n",
    "plt.show()"
   ]
  },
  {
   "cell_type": "code",
   "execution_count": 19,
   "id": "961a7b20-c331-4b82-9c27-2e4a1f03c278",
   "metadata": {},
   "outputs": [
    {
     "data": {
      "image/png": "[encoded data removed]",
      "text/plain": [
       "<Figure size 640x480 with 1 Axes>"
      ]
     },
     "metadata": {},
     "output_type": "display_data"
    },
    {
     "data": {
      "text/plain": [
       "species\n",
       "Adelie       0.441860\n",
       "Gentoo       0.360465\n",
       "Chinstrap    0.197674\n",
       "Name: count, dtype: float64"
      ]
     },
     "execution_count": 19,
     "metadata": {},
     "output_type": "execute_result"
    }
   ],
   "source": [
    "uniform(data.species)"
   ]
  },
  {
   "cell_type": "code",
   "execution_count": 25,
   "id": "c5706db5-4bda-4499-b6bb-7486d66ccd42",
   "metadata": {},
   "outputs": [
    {
     "data": {
      "image/png": "[encoded data removed]",
      "text/plain": [
       "<Figure size 640x480 with 1 Axes>"
      ]
     },
     "metadata": {},
     "output_type": "display_data"
    },
    {
     "data": {
      "text/plain": [
       "island\n",
       "Biscoe       0.488372\n",
       "Dream        0.360465\n",
       "Torgersen    0.151163\n",
       "Name: count, dtype: float64"
      ]
     },
     "execution_count": 25,
     "metadata": {},
     "output_type": "execute_result"
    }
   ],
   "source": [
    "uniform(data.island)"
   ]
  },
  {
   "cell_type": "code",
   "execution_count": 27,
   "id": "de2de551-d270-4c73-8b68-0159c0a10189",
   "metadata": {},
   "outputs": [
    {
     "data": {
      "image/png": "[encoded data removed]",
      "text/plain": [
       "<Figure size 640x480 with 1 Axes>"
      ]
     },
     "metadata": {},
     "output_type": "display_data"
    },
    {
     "data": {
      "text/plain": [
       "sex\n",
       "Male      0.488372\n",
       "Female    0.479651\n",
       "Name: count, dtype: float64"
      ]
     },
     "execution_count": 27,
     "metadata": {},
     "output_type": "execute_result"
    }
   ],
   "source": [
    "uniform(data.sex)"
   ]
  },
  {
   "cell_type": "markdown",
   "id": "3d72d36e-a623-4682-986a-a0cd7182a53d",
   "metadata": {},
   "source": [
    "# Bernoulli Distribution"
   ]
  },
  {
   "cell_type": "code",
   "execution_count": 34,
   "id": "b9a2f203-2777-4810-adcf-7e0ed28a3be1",
   "metadata": {},
   "outputs": [
    {
     "name": "stdout",
     "output_type": "stream",
     "text": [
      "Sales Data : \n",
      " 0    9\n",
      "1    3\n",
      "2    2\n",
      "3    3\n",
      "4    3\n",
      "5    2\n",
      "6    7\n",
      "7    3\n",
      "8    2\n",
      "9    7\n",
      "Name: Sales, dtype: int32\n",
      "Binary Data (sales > 5):\n",
      " 0    1\n",
      "1    0\n",
      "2    0\n",
      "3    0\n",
      "4    0\n",
      "5    0\n",
      "6    1\n",
      "7    0\n",
      "8    0\n",
      "9    1\n",
      "Name: Sales, dtype: int32\n",
      "Probability of meeting/exceeding threshold (p): 0.30\n",
      "Probability of not meeting threshold (q): 0.70\n"
     ]
    }
   ],
   "source": [
    "import numpy as np\n",
    "\n",
    "ex = np.random.randint(1,10,10)\n",
    "data = pd.Series(ex, name = 'Sales')\n",
    "\n",
    "threshold = 5\n",
    "dist_data = (data > threshold).astype(int)\n",
    "\n",
    "p = dist_data.mean()\n",
    "q = 1-p\n",
    "\n",
    "print(\"Sales Data : \\n\", data)\n",
    "print(\"Binary Data (sales > 5):\\n\", dist_data)\n",
    "print(f'Probability of meeting/exceeding threshold (p): {p:.2f}')\n",
    "print(f'Probability of not meeting threshold (q): {q:.2f}')\n"
   ]
  },
  {
   "cell_type": "code",
   "execution_count": 36,
   "id": "69990c66-132e-4047-bd0d-328f1f3dcee5",
   "metadata": {},
   "outputs": [
    {
     "name": "stdout",
     "output_type": "stream",
     "text": [
      "Bernoulli PMF for X=1 :  0.30\n"
     ]
    }
   ],
   "source": [
    "def bernoulli_pmf(x, p):\n",
    "    return (p ** x) * (q ** (1-x))\n",
    "\n",
    "x = 1\n",
    "bernoulli_prob = bernoulli_pmf(x, p)\n",
    "print(f'Bernoulli PMF for X={x} : {bernoulli_prob : .2f}')\n",
    "    "
   ]
  },
  {
   "cell_type": "markdown",
   "id": "ba066618-4d72-4d49-b19f-484bd47578b0",
   "metadata": {},
   "source": [
    "# Binomial Dist"
   ]
  },
  {
   "cell_type": "code",
   "execution_count": 38,
   "id": "48b96199-e60e-43de-b698-fd7738bfe726",
   "metadata": {},
   "outputs": [
    {
     "name": "stdout",
     "output_type": "stream",
     "text": [
      "Binomial PMF for X=5:  0.10\n"
     ]
    }
   ],
   "source": [
    "from scipy.stats import binom\n",
    "\n",
    "n =  len(data)\n",
    "k = 5\n",
    "\n",
    "binom_prob = binom.pmf(k, n, p)\n",
    "print(f'Binomial PMF for X={k}: {binom_prob: .2f}')\n"
   ]
  },
  {
   "cell_type": "markdown",
   "id": "8099abdf-1b74-4682-8a56-e0f5e2c55590",
   "metadata": {},
   "source": [
    "# Poisson Distribution"
   ]
  },
  {
   "cell_type": "code",
   "execution_count": 46,
   "id": "13845a4d-59ad-4d52-bbba-61a6a4491505",
   "metadata": {},
   "outputs": [
    {
     "name": "stdout",
     "output_type": "stream",
     "text": [
      "Probability of exactly 6 cars passing in 150 minutes :  0.1462\n",
      "Probability of atleast 6 cars passing in 150 minutes :  0.1755\n"
     ]
    }
   ],
   "source": [
    "import scipy.stats as stats\n",
    "\n",
    "#Given Data\n",
    "rate_per_hour = 2\n",
    "time_period_minutes = 150\n",
    "time_period_hours = time_period_minutes / 60\n",
    "\n",
    "lambda_ = rate_per_hour * time_period_hours\n",
    "\n",
    "# Q1 Probability of exactly 6 cars passing\n",
    "prob_exactly_6 = stats.poisson.pmf(6, lambda_)\n",
    "print(f'Probability of exactly 6 cars passing in 150 minutes : {prob_exactly_6 : .4f}')\n",
    "\n",
    "# Q2 probability of at least 6 cars passing\n",
    "prob_atleast_6 = stats.poisson.pmf(5, lambda_)\n",
    "print(f'Probability of atleast 6 cars passing in 150 minutes : {prob_atleast_6 : .4f}')"
   ]
  },
  {
   "cell_type": "markdown",
   "id": "17769d2b-6c1e-4a5c-914b-2559e4e54b70",
   "metadata": {},
   "source": [
    "# Continous Probability Distribution"
   ]
  },
  {
   "cell_type": "code",
   "execution_count": 2,
   "id": "e1231859-90e2-47ed-822e-4c48d221dda1",
   "metadata": {},
   "outputs": [],
   "source": [
    "import numpy as np\n",
    "import pandas as pd\n",
    "import matplotlib.pyplot as plt\n"
   ]
  },
  {
   "cell_type": "code",
   "execution_count": 4,
   "id": "a320690e-165d-4800-a73b-9240bc16ae58",
   "metadata": {},
   "outputs": [],
   "source": [
    "import warnings\n",
    "warnings.filterwarnings('ignore')"
   ]
  },
  {
   "cell_type": "code",
   "execution_count": 10,
   "id": "502520d0-6d3a-4f87-a694-54d4b6ecf315",
   "metadata": {},
   "outputs": [],
   "source": [
    "beml_df = pd.read_csv(r\"https://raw.githubusercontent.com/slmsshk/DataSet-main/cc421c30de0909096e22e1cdecc00e78fba47b7d/BEML.csv\")"
   ]
  },
  {
   "cell_type": "code",
   "execution_count": 12,
   "id": "c42ced2e-498e-4c0a-b915-cf844c99358e",
   "metadata": {},
   "outputs": [
    {
     "data": {
      "text/html": [
       "<div>\n",
       "<style scoped>\n",
       "    .dataframe tbody tr th:only-of-type {\n",
       "        vertical-align: middle;\n",
       "    }\n",
       "\n",
       "    .dataframe tbody tr th {\n",
       "        vertical-align: top;\n",
       "    }\n",
       "\n",
       "    .dataframe thead th {\n",
       "        text-align: right;\n",
       "    }\n",
       "</style>\n",
       "<table border=\"1\" class=\"dataframe\">\n",
       "  <thead>\n",
       "    <tr style=\"text-align: right;\">\n",
       "      <th></th>\n",
       "      <th>Date</th>\n",
       "      <th>Open</th>\n",
       "      <th>High</th>\n",
       "      <th>Low</th>\n",
       "      <th>Last</th>\n",
       "      <th>Close</th>\n",
       "      <th>Total Trade Quantity</th>\n",
       "      <th>Turnover (Lacs)</th>\n",
       "    </tr>\n",
       "  </thead>\n",
       "  <tbody>\n",
       "    <tr>\n",
       "      <th>0</th>\n",
       "      <td>2010-01-04</td>\n",
       "      <td>1121.0</td>\n",
       "      <td>1151.00</td>\n",
       "      <td>1121.00</td>\n",
       "      <td>1134.0</td>\n",
       "      <td>1135.60</td>\n",
       "      <td>101651.0</td>\n",
       "      <td>1157.18</td>\n",
       "    </tr>\n",
       "    <tr>\n",
       "      <th>1</th>\n",
       "      <td>2010-01-05</td>\n",
       "      <td>1146.8</td>\n",
       "      <td>1149.00</td>\n",
       "      <td>1128.75</td>\n",
       "      <td>1135.0</td>\n",
       "      <td>1134.60</td>\n",
       "      <td>59504.0</td>\n",
       "      <td>676.47</td>\n",
       "    </tr>\n",
       "    <tr>\n",
       "      <th>2</th>\n",
       "      <td>2010-01-06</td>\n",
       "      <td>1140.0</td>\n",
       "      <td>1164.25</td>\n",
       "      <td>1130.05</td>\n",
       "      <td>1137.0</td>\n",
       "      <td>1139.60</td>\n",
       "      <td>128908.0</td>\n",
       "      <td>1482.84</td>\n",
       "    </tr>\n",
       "    <tr>\n",
       "      <th>3</th>\n",
       "      <td>2010-01-07</td>\n",
       "      <td>1142.0</td>\n",
       "      <td>1159.40</td>\n",
       "      <td>1119.20</td>\n",
       "      <td>1141.0</td>\n",
       "      <td>1144.15</td>\n",
       "      <td>117871.0</td>\n",
       "      <td>1352.98</td>\n",
       "    </tr>\n",
       "    <tr>\n",
       "      <th>4</th>\n",
       "      <td>2010-01-08</td>\n",
       "      <td>1156.0</td>\n",
       "      <td>1172.00</td>\n",
       "      <td>1140.00</td>\n",
       "      <td>1141.2</td>\n",
       "      <td>1144.05</td>\n",
       "      <td>170063.0</td>\n",
       "      <td>1971.42</td>\n",
       "    </tr>\n",
       "  </tbody>\n",
       "</table>\n",
       "</div>"
      ],
      "text/plain": [
       "         Date    Open     High      Low    Last    Close  \\\n",
       "0  2010-01-04  1121.0  1151.00  1121.00  1134.0  1135.60   \n",
       "1  2010-01-05  1146.8  1149.00  1128.75  1135.0  1134.60   \n",
       "2  2010-01-06  1140.0  1164.25  1130.05  1137.0  1139.60   \n",
       "3  2010-01-07  1142.0  1159.40  1119.20  1141.0  1144.15   \n",
       "4  2010-01-08  1156.0  1172.00  1140.00  1141.2  1144.05   \n",
       "\n",
       "   Total Trade Quantity  Turnover (Lacs)  \n",
       "0              101651.0          1157.18  \n",
       "1               59504.0           676.47  \n",
       "2              128908.0          1482.84  \n",
       "3              117871.0          1352.98  \n",
       "4              170063.0          1971.42  "
      ]
     },
     "execution_count": 12,
     "metadata": {},
     "output_type": "execute_result"
    }
   ],
   "source": [
    "beml_df.head()"
   ]
  },
  {
   "cell_type": "code",
   "execution_count": 22,
   "id": "12e652e5-5aac-4ad7-a365-e2681e4708e6",
   "metadata": {},
   "outputs": [],
   "source": [
    "beml_df.Date = pd.to_datetime(beml_df.Date)"
   ]
  },
  {
   "cell_type": "code",
   "execution_count": 24,
   "id": "4b04dd61-ccb8-4dd8-aa83-9b27bf722dad",
   "metadata": {},
   "outputs": [
    {
     "data": {
      "text/html": [
       "<div>\n",
       "<style scoped>\n",
       "    .dataframe tbody tr th:only-of-type {\n",
       "        vertical-align: middle;\n",
       "    }\n",
       "\n",
       "    .dataframe tbody tr th {\n",
       "        vertical-align: top;\n",
       "    }\n",
       "\n",
       "    .dataframe thead th {\n",
       "        text-align: right;\n",
       "    }\n",
       "</style>\n",
       "<table border=\"1\" class=\"dataframe\">\n",
       "  <thead>\n",
       "    <tr style=\"text-align: right;\">\n",
       "      <th></th>\n",
       "      <th>Date</th>\n",
       "      <th>Open</th>\n",
       "      <th>High</th>\n",
       "      <th>Low</th>\n",
       "      <th>Last</th>\n",
       "      <th>Close</th>\n",
       "      <th>Total Trade Quantity</th>\n",
       "      <th>Turnover (Lacs)</th>\n",
       "    </tr>\n",
       "  </thead>\n",
       "  <tbody>\n",
       "    <tr>\n",
       "      <th>count</th>\n",
       "      <td>1739</td>\n",
       "      <td>1739.000000</td>\n",
       "      <td>1739.000000</td>\n",
       "      <td>1739.000000</td>\n",
       "      <td>1739.000000</td>\n",
       "      <td>1739.000000</td>\n",
       "      <td>1.739000e+03</td>\n",
       "      <td>1739.000000</td>\n",
       "    </tr>\n",
       "    <tr>\n",
       "      <th>mean</th>\n",
       "      <td>2013-06-26 22:28:54.790109184</td>\n",
       "      <td>700.233180</td>\n",
       "      <td>713.384704</td>\n",
       "      <td>686.280276</td>\n",
       "      <td>698.413370</td>\n",
       "      <td>698.435221</td>\n",
       "      <td>2.352309e+05</td>\n",
       "      <td>1682.773985</td>\n",
       "    </tr>\n",
       "    <tr>\n",
       "      <th>min</th>\n",
       "      <td>2010-01-04 00:00:00</td>\n",
       "      <td>129.300000</td>\n",
       "      <td>133.500000</td>\n",
       "      <td>106.000000</td>\n",
       "      <td>128.900000</td>\n",
       "      <td>129.150000</td>\n",
       "      <td>2.441000e+03</td>\n",
       "      <td>16.130000</td>\n",
       "    </tr>\n",
       "    <tr>\n",
       "      <th>25%</th>\n",
       "      <td>2011-09-26 12:00:00</td>\n",
       "      <td>371.025000</td>\n",
       "      <td>379.300000</td>\n",
       "      <td>367.525000</td>\n",
       "      <td>370.550000</td>\n",
       "      <td>370.650000</td>\n",
       "      <td>5.878150e+04</td>\n",
       "      <td>263.160000</td>\n",
       "    </tr>\n",
       "    <tr>\n",
       "      <th>50%</th>\n",
       "      <td>2013-06-21 00:00:00</td>\n",
       "      <td>685.000000</td>\n",
       "      <td>699.800000</td>\n",
       "      <td>666.750000</td>\n",
       "      <td>683.000000</td>\n",
       "      <td>682.150000</td>\n",
       "      <td>1.282050e+05</td>\n",
       "      <td>678.090000</td>\n",
       "    </tr>\n",
       "    <tr>\n",
       "      <th>75%</th>\n",
       "      <td>2015-03-28 12:00:00</td>\n",
       "      <td>1012.000000</td>\n",
       "      <td>1027.800000</td>\n",
       "      <td>997.000000</td>\n",
       "      <td>1011.200000</td>\n",
       "      <td>1010.550000</td>\n",
       "      <td>2.513440e+05</td>\n",
       "      <td>1956.530000</td>\n",
       "    </tr>\n",
       "    <tr>\n",
       "      <th>max</th>\n",
       "      <td>2016-12-30 00:00:00</td>\n",
       "      <td>1569.800000</td>\n",
       "      <td>1612.000000</td>\n",
       "      <td>1540.250000</td>\n",
       "      <td>1555.850000</td>\n",
       "      <td>1558.500000</td>\n",
       "      <td>3.720854e+06</td>\n",
       "      <td>26358.000000</td>\n",
       "    </tr>\n",
       "    <tr>\n",
       "      <th>std</th>\n",
       "      <td>NaN</td>\n",
       "      <td>358.658024</td>\n",
       "      <td>364.165083</td>\n",
       "      <td>351.554420</td>\n",
       "      <td>357.358712</td>\n",
       "      <td>357.429870</td>\n",
       "      <td>3.561114e+05</td>\n",
       "      <td>2705.430289</td>\n",
       "    </tr>\n",
       "  </tbody>\n",
       "</table>\n",
       "</div>"
      ],
      "text/plain": [
       "                                Date         Open         High          Low  \\\n",
       "count                           1739  1739.000000  1739.000000  1739.000000   \n",
       "mean   2013-06-26 22:28:54.790109184   700.233180   713.384704   686.280276   \n",
       "min              2010-01-04 00:00:00   129.300000   133.500000   106.000000   \n",
       "25%              2011-09-26 12:00:00   371.025000   379.300000   367.525000   \n",
       "50%              2013-06-21 00:00:00   685.000000   699.800000   666.750000   \n",
       "75%              2015-03-28 12:00:00  1012.000000  1027.800000   997.000000   \n",
       "max              2016-12-30 00:00:00  1569.800000  1612.000000  1540.250000   \n",
       "std                              NaN   358.658024   364.165083   351.554420   \n",
       "\n",
       "              Last        Close  Total Trade Quantity  Turnover (Lacs)  \n",
       "count  1739.000000  1739.000000          1.739000e+03      1739.000000  \n",
       "mean    698.413370   698.435221          2.352309e+05      1682.773985  \n",
       "min     128.900000   129.150000          2.441000e+03        16.130000  \n",
       "25%     370.550000   370.650000          5.878150e+04       263.160000  \n",
       "50%     683.000000   682.150000          1.282050e+05       678.090000  \n",
       "75%    1011.200000  1010.550000          2.513440e+05      1956.530000  \n",
       "max    1555.850000  1558.500000          3.720854e+06     26358.000000  \n",
       "std     357.358712   357.429870          3.561114e+05      2705.430289  "
      ]
     },
     "execution_count": 24,
     "metadata": {},
     "output_type": "execute_result"
    }
   ],
   "source": [
    "beml_df.describe(include = 'all')"
   ]
  },
  {
   "cell_type": "code",
   "execution_count": 26,
   "id": "b7d4c178-f585-48bf-b30a-b34d407d96b7",
   "metadata": {},
   "outputs": [],
   "source": [
    "glaxo_df = pd.read_csv(r\"https://raw.githubusercontent.com/slmsshk/DataSet-main/cc421c30de0909096e22e1cdecc00e78fba47b7d/glaxo_df.csv\")"
   ]
  },
  {
   "cell_type": "code",
   "execution_count": 28,
   "id": "4874ebcb-8b6a-4767-adcb-c931a4ff2c70",
   "metadata": {},
   "outputs": [
    {
     "data": {
      "text/html": [
       "<div>\n",
       "<style scoped>\n",
       "    .dataframe tbody tr th:only-of-type {\n",
       "        vertical-align: middle;\n",
       "    }\n",
       "\n",
       "    .dataframe tbody tr th {\n",
       "        vertical-align: top;\n",
       "    }\n",
       "\n",
       "    .dataframe thead th {\n",
       "        text-align: right;\n",
       "    }\n",
       "</style>\n",
       "<table border=\"1\" class=\"dataframe\">\n",
       "  <thead>\n",
       "    <tr style=\"text-align: right;\">\n",
       "      <th></th>\n",
       "      <th>Date</th>\n",
       "      <th>Date.1</th>\n",
       "      <th>Close</th>\n",
       "      <th>gain</th>\n",
       "    </tr>\n",
       "  </thead>\n",
       "  <tbody>\n",
       "    <tr>\n",
       "      <th>0</th>\n",
       "      <td>2010-01-05</td>\n",
       "      <td>2010-01-05</td>\n",
       "      <td>1616.80</td>\n",
       "      <td>-0.005444</td>\n",
       "    </tr>\n",
       "    <tr>\n",
       "      <th>1</th>\n",
       "      <td>2010-01-06</td>\n",
       "      <td>2010-01-06</td>\n",
       "      <td>1638.50</td>\n",
       "      <td>0.013422</td>\n",
       "    </tr>\n",
       "    <tr>\n",
       "      <th>2</th>\n",
       "      <td>2010-01-07</td>\n",
       "      <td>2010-01-07</td>\n",
       "      <td>1648.70</td>\n",
       "      <td>0.006225</td>\n",
       "    </tr>\n",
       "    <tr>\n",
       "      <th>3</th>\n",
       "      <td>2010-01-08</td>\n",
       "      <td>2010-01-08</td>\n",
       "      <td>1639.80</td>\n",
       "      <td>-0.005398</td>\n",
       "    </tr>\n",
       "    <tr>\n",
       "      <th>4</th>\n",
       "      <td>2010-01-11</td>\n",
       "      <td>2010-01-11</td>\n",
       "      <td>1629.45</td>\n",
       "      <td>-0.006312</td>\n",
       "    </tr>\n",
       "  </tbody>\n",
       "</table>\n",
       "</div>"
      ],
      "text/plain": [
       "         Date      Date.1    Close      gain\n",
       "0  2010-01-05  2010-01-05  1616.80 -0.005444\n",
       "1  2010-01-06  2010-01-06  1638.50  0.013422\n",
       "2  2010-01-07  2010-01-07  1648.70  0.006225\n",
       "3  2010-01-08  2010-01-08  1639.80 -0.005398\n",
       "4  2010-01-11  2010-01-11  1629.45 -0.006312"
      ]
     },
     "execution_count": 28,
     "metadata": {},
     "output_type": "execute_result"
    }
   ],
   "source": [
    "glaxo_df.head()"
   ]
  },
  {
   "cell_type": "code",
   "execution_count": 32,
   "id": "6f785017-4ee0-4803-b1a7-341e85744ffa",
   "metadata": {},
   "outputs": [
    {
     "data": {
      "text/html": [
       "<div>\n",
       "<style scoped>\n",
       "    .dataframe tbody tr th:only-of-type {\n",
       "        vertical-align: middle;\n",
       "    }\n",
       "\n",
       "    .dataframe tbody tr th {\n",
       "        vertical-align: top;\n",
       "    }\n",
       "\n",
       "    .dataframe thead th {\n",
       "        text-align: right;\n",
       "    }\n",
       "</style>\n",
       "<table border=\"1\" class=\"dataframe\">\n",
       "  <thead>\n",
       "    <tr style=\"text-align: right;\">\n",
       "      <th></th>\n",
       "      <th>Date</th>\n",
       "      <th>Date.1</th>\n",
       "      <th>Close</th>\n",
       "      <th>gain</th>\n",
       "    </tr>\n",
       "  </thead>\n",
       "  <tbody>\n",
       "    <tr>\n",
       "      <th>count</th>\n",
       "      <td>1738</td>\n",
       "      <td>1738</td>\n",
       "      <td>1738.000000</td>\n",
       "      <td>1738.000000</td>\n",
       "    </tr>\n",
       "    <tr>\n",
       "      <th>unique</th>\n",
       "      <td>NaN</td>\n",
       "      <td>1738</td>\n",
       "      <td>NaN</td>\n",
       "      <td>NaN</td>\n",
       "    </tr>\n",
       "    <tr>\n",
       "      <th>top</th>\n",
       "      <td>NaN</td>\n",
       "      <td>2010-01-05</td>\n",
       "      <td>NaN</td>\n",
       "      <td>NaN</td>\n",
       "    </tr>\n",
       "    <tr>\n",
       "      <th>freq</th>\n",
       "      <td>NaN</td>\n",
       "      <td>1</td>\n",
       "      <td>NaN</td>\n",
       "      <td>NaN</td>\n",
       "    </tr>\n",
       "    <tr>\n",
       "      <th>mean</th>\n",
       "      <td>2013-06-27 16:01:06.283084032</td>\n",
       "      <td>NaN</td>\n",
       "      <td>2533.153596</td>\n",
       "      <td>0.000386</td>\n",
       "    </tr>\n",
       "    <tr>\n",
       "      <th>min</th>\n",
       "      <td>2010-01-05 00:00:00</td>\n",
       "      <td>NaN</td>\n",
       "      <td>1514.300000</td>\n",
       "      <td>-0.074719</td>\n",
       "    </tr>\n",
       "    <tr>\n",
       "      <th>25%</th>\n",
       "      <td>2011-09-27 06:00:00</td>\n",
       "      <td>NaN</td>\n",
       "      <td>2096.987500</td>\n",
       "      <td>-0.005850</td>\n",
       "    </tr>\n",
       "    <tr>\n",
       "      <th>50%</th>\n",
       "      <td>2013-06-22 12:00:00</td>\n",
       "      <td>NaN</td>\n",
       "      <td>2365.700000</td>\n",
       "      <td>-0.000021</td>\n",
       "    </tr>\n",
       "    <tr>\n",
       "      <th>75%</th>\n",
       "      <td>2015-03-29 06:00:00</td>\n",
       "      <td>NaN</td>\n",
       "      <td>3010.562500</td>\n",
       "      <td>0.005826</td>\n",
       "    </tr>\n",
       "    <tr>\n",
       "      <th>max</th>\n",
       "      <td>2016-12-30 00:00:00</td>\n",
       "      <td>NaN</td>\n",
       "      <td>3814.750000</td>\n",
       "      <td>0.189196</td>\n",
       "    </tr>\n",
       "    <tr>\n",
       "      <th>std</th>\n",
       "      <td>NaN</td>\n",
       "      <td>NaN</td>\n",
       "      <td>540.441532</td>\n",
       "      <td>0.013361</td>\n",
       "    </tr>\n",
       "  </tbody>\n",
       "</table>\n",
       "</div>"
      ],
      "text/plain": [
       "                                 Date      Date.1        Close         gain\n",
       "count                            1738        1738  1738.000000  1738.000000\n",
       "unique                            NaN        1738          NaN          NaN\n",
       "top                               NaN  2010-01-05          NaN          NaN\n",
       "freq                              NaN           1          NaN          NaN\n",
       "mean    2013-06-27 16:01:06.283084032         NaN  2533.153596     0.000386\n",
       "min               2010-01-05 00:00:00         NaN  1514.300000    -0.074719\n",
       "25%               2011-09-27 06:00:00         NaN  2096.987500    -0.005850\n",
       "50%               2013-06-22 12:00:00         NaN  2365.700000    -0.000021\n",
       "75%               2015-03-29 06:00:00         NaN  3010.562500     0.005826\n",
       "max               2016-12-30 00:00:00         NaN  3814.750000     0.189196\n",
       "std                               NaN         NaN   540.441532     0.013361"
      ]
     },
     "execution_count": 32,
     "metadata": {},
     "output_type": "execute_result"
    }
   ],
   "source": [
    "glaxo_df.Date = pd.to_datetime(glaxo_df.Date)\n",
    "glaxo_df.describe(include = 'all')"
   ]
  },
  {
   "cell_type": "code",
   "execution_count": 34,
   "id": "627b58b0-44fb-4632-8951-e8c6eb2122a6",
   "metadata": {},
   "outputs": [],
   "source": [
    "beml_df = beml_df[['Date', 'Close']]\n",
    "glaxo_df = glaxo_df[['Date', 'Close']]"
   ]
  },
  {
   "cell_type": "code",
   "execution_count": 46,
   "id": "1ea9bbe3-04bb-44dc-8933-2a81991bad42",
   "metadata": {},
   "outputs": [
    {
     "data": {
      "text/plain": [
       "<matplotlib.legend.Legend at 0x1f50fdec5c0>"
      ]
     },
     "execution_count": 46,
     "metadata": {},
     "output_type": "execute_result"
    },
    {
     "data": {
      "image/png": "[encoded data removed]",
      "text/plain": [
       "<Figure size 1500x300 with 1 Axes>"
      ]
     },
     "metadata": {},
     "output_type": "display_data"
    }
   ],
   "source": [
    "beml_df.Close.plot(figsize=(15,3), label = 'beml')\n",
    "glaxo_df.Close.plot(figsize=(15,3), label = 'glaxo')\n",
    "plt.legend()"
   ]
  },
  {
   "cell_type": "code",
   "execution_count": 44,
   "id": "cf23a7b4-f385-4908-8138-7c9826c244fd",
   "metadata": {},
   "outputs": [
    {
     "data": {
      "text/plain": [
       "<matplotlib.legend.Legend at 0x1f50e062e40>"
      ]
     },
     "execution_count": 44,
     "metadata": {},
     "output_type": "execute_result"
    },
    {
     "data": {
      "image/png": "[encoded data removed]",
      "text/plain": [
       "<Figure size 1500x300 with 1 Axes>"
      ]
     },
     "metadata": {},
     "output_type": "display_data"
    }
   ],
   "source": [
    "beml_df.Close.plot(kind = 'hist', figsize = (15,3), label = 'beml')\n",
    "glaxo_df.Close.plot(kind = 'hist', figsize = (15,3), label = 'glaxo')\n",
    "plt.legend()"
   ]
  },
  {
   "cell_type": "markdown",
   "id": "bebcd0ba-2b14-45db-89b3-0f6bdcf9de43",
   "metadata": {},
   "source": [
    "# 6-Sept-2024"
   ]
  },
  {
   "cell_type": "code",
   "execution_count": 106,
   "id": "9c822004-d9c2-48cf-9b5e-980fc9b606d5",
   "metadata": {},
   "outputs": [],
   "source": [
    "# null hypothesis\n",
    "\n",
    "mean = 120\n",
    "n = 80\n",
    "sigma = 40\n",
    "x_bar = 130\n",
    "\n",
    "import math\n",
    "\n",
    "def z(n,mean,sample_mean,std):\n",
    "    score = (sample_mean-mean)/(std/math.sqrt(n))"
   ]
  },
  {
   "cell_type": "code",
   "execution_count": 108,
   "id": "bb86cb46-3f66-4c26-8d23-6f60926024e3",
   "metadata": {},
   "outputs": [],
   "source": [
    "import math\n",
    "\n",
    "#```python\n",
    "def z(n,mean,sample_mean,std):\n",
    "    score = (sample_mean-mean)/(std/math.sqrt(n))\n",
    "    return score"
   ]
  },
  {
   "cell_type": "code",
   "execution_count": 110,
   "id": "b66622e9-a7ab-4c44-9201-a8263d05257d",
   "metadata": {},
   "outputs": [],
   "source": [
    "# null hypothesis\n",
    "\n",
    "mean = 120\n",
    "n = 80\n",
    "sigma = 40\n",
    "x_bar = 130\n",
    "\n",
    "import math\n",
    "\n",
    "def z(n,mean,sample_mean,std):\n",
    "    score = (sample_mean-mean)/(std/math.sqrt(n))"
   ]
  },
  {
   "cell_type": "code",
   "execution_count": 112,
   "id": "cb70f498-fc1b-4a42-8dd1-c8cbb7842c6c",
   "metadata": {},
   "outputs": [],
   "source": [
    "import math\n",
    "\n",
    "def z(n,mean,sample_mean,std):\n",
    "    score = (sample_mean-mean)/(std/math.sqrt(n))\n",
    "    return score"
   ]
  },
  {
   "cell_type": "code",
   "execution_count": 114,
   "id": "5c861afe-af7c-41bc-ba16-9b2e449dbeb7",
   "metadata": {},
   "outputs": [],
   "source": [
    "score = z(n, mean, x_bar, sigma)"
   ]
  },
  {
   "cell_type": "code",
   "execution_count": 116,
   "id": "8346179e-7406-4636-8be0-f4e7113371a2",
   "metadata": {},
   "outputs": [
    {
     "data": {
      "text/plain": [
       "0.0126736593387341"
      ]
     },
     "execution_count": 116,
     "metadata": {},
     "output_type": "execute_result"
    }
   ],
   "source": [
    "from scipy import stats\n",
    "1 - stats.norm.cdf(score)"
   ]
  },
  {
   "cell_type": "code",
   "execution_count": 66,
   "id": "f5f52159-1d75-46de-b023-dadbe55fdcac",
   "metadata": {},
   "outputs": [
    {
     "name": "stdout",
     "output_type": "stream",
     "text": [
      "z-score: 2.23606797749979\n",
      "p-value: 0.0126736593387341\n",
      "z-Decision: Reject the null hypothesis launch the loyality program\n"
     ]
    }
   ],
   "source": [
    "import math\n",
    "from scipy.stats import norm\n",
    "\n",
    "# z-test for one sample mean\n",
    "def z_test_mean(sample_mean, claimed_mean, sample_std_dev, sample_size, alpha):\n",
    "    #calculate the standard error\n",
    "    standard_error = sample_std_dev / math.sqrt(sample_size)\n",
    "\n",
    "#calculate the z-score\n",
    "    z = (sample_mean - claimed_mean) / standard_error\n",
    "\n",
    "#calculate the p-value (one_tailed test)\n",
    "    p_value = 1 - norm.cdf(z) #we use 1 - CDF(z) beacuse it's a right-tailed test\n",
    "\n",
    "#Decision based on the level of significance(alpha)\n",
    "    if p_value < alpha:\n",
    "        decision = \"Reject the null hypothesis launch the loyality program\"\n",
    "    else: \n",
    "        decision = \"Fail to Reject the null hypothesis: Do not launch the loyality program\"\n",
    "\n",
    "    return z, p_value,decision\n",
    "\n",
    "sample_mean = 130\n",
    "claimed_mean = 120\n",
    "sample_std_dev = 40\n",
    "sample_size = 80\n",
    "alpha = 0.05\n",
    "\n",
    "# perform the Z-test\n",
    "z_score, p_value, decision = z_test_mean(sample_mean, claimed_mean, sample_std_dev, sample_size, alpha)\n",
    "\n",
    "print(f\"z-score: {z_score}\")\n",
    "print(f\"p-value: {p_value}\")\n",
    "print(f\"z-Decision: {decision}\")"
   ]
  },
  {
   "cell_type": "code",
   "execution_count": null,
   "id": "1f74cd60-4552-4433-bb3e-c8248fa847dc",
   "metadata": {},
   "outputs": [],
   "source": [
    "# null hypothesis  >= 4\n",
    "# alt hypothesis  = 4"
   ]
  },
  {
   "cell_type": "code",
   "execution_count": 82,
   "id": "6d419c06-1c70-4699-b4c0-9df1067c4963",
   "metadata": {},
   "outputs": [
    {
     "name": "stdout",
     "output_type": "stream",
     "text": [
      "z-score: -0.4714045207910321\n",
      "p-value: 0.6813240558830316\n",
      "z-Decision: Fail to Reject the null hypothesis: Do not launch the loyality program\n"
     ]
    }
   ],
   "source": [
    "import math\n",
    "from scipy.stats import norm\n",
    "\n",
    "# z-test for one sample mean\n",
    "def z_test_mean(sample_mean, claimed_mean, sample_std_dev, sample_size, alpha):\n",
    "    #calculate the standard error\n",
    "    standard_error = sample_std_dev / math.sqrt(sample_size)\n",
    "\n",
    "#calculate the z-score\n",
    "    z = (sample_mean - claimed_mean) / standard_error\n",
    "\n",
    "#calculate the p-value (one_tailed test)\n",
    "    p_value = 1 - norm.cdf(z) #we use 1 - CDF(z) beacuse it's a right-tailed test\n",
    "\n",
    "#Decision based on the level of significance(alpha)\n",
    "    if p_value < alpha:\n",
    "        decision = \"Reject the null hypothesis launch the loyality program\"\n",
    "    else: \n",
    "        decision = \"Fail to Reject the null hypothesis: Do not launch the loyality program\"\n",
    "\n",
    "    return z, p_value,decision\n",
    "\n",
    "sample_mean = 4\n",
    "claimed_mean = 4.2\n",
    "sample_std_dev = 3\n",
    "sample_size = 50\n",
    "alpha = 0.05\n",
    "\n",
    "# perform the Z-test\n",
    "z_score, p_value, decision = z_test_mean(sample_mean, claimed_mean, sample_std_dev, sample_size, alpha)\n",
    "\n",
    "print(f\"z-score: {z_score}\")\n",
    "print(f\"p-value: {p_value}\")\n",
    "print(f\"z-Decision: {decision}\")"
   ]
  },
  {
   "cell_type": "code",
   "execution_count": null,
   "id": "503fd40f-8b49-47d4-8543-992ad6ad0be1",
   "metadata": {},
   "outputs": [],
   "source": [
    "# null hypothesis = <= 50\n",
    "# alt hypothesis == 50"
   ]
  },
  {
   "cell_type": "code",
   "execution_count": 90,
   "id": "8e54edf8-569c-4fac-a6e2-4176d1c54d93",
   "metadata": {},
   "outputs": [
    {
     "name": "stdout",
     "output_type": "stream",
     "text": [
      "z-score: -2.6832815729997477\n",
      "p-value: 0.9963548209542322\n",
      "z-Decision: Fail to Reject the null hypothesis: Do not launch the loyality program\n"
     ]
    }
   ],
   "source": [
    "import math\n",
    "from scipy.stats import norm\n",
    "\n",
    "# z-test for one sample mean\n",
    "def z_test_mean(sample_mean, claimed_mean, sample_std_dev, sample_size, alpha):\n",
    "    #calculate the standard error\n",
    "    standard_error = sample_std_dev / math.sqrt(sample_size)\n",
    "\n",
    "#calculate the z-score\n",
    "    z = (sample_mean - claimed_mean) / standard_error\n",
    "\n",
    "#calculate the p-value (one_tailed test)\n",
    "    p_value = 1 - norm.cdf(z) #we use 1 - CDF(z) beacuse it's a right-tailed test\n",
    "\n",
    "#Decision based on the level of significance(alpha)\n",
    "    if p_value < alpha:\n",
    "        decision = \"Reject the null hypothesis launch the loyality program\"\n",
    "    else: \n",
    "        decision = \"Fail to Reject the null hypothesis: Do not launch the loyality program\"\n",
    "\n",
    "    return z, p_value,decision\n",
    "\n",
    "sample_mean = 48\n",
    "claimed_mean = 50\n",
    "sample_std_dev = 5\n",
    "sample_size = 45\n",
    "alpha = 0.05\n",
    "\n",
    "# perform the Z-test\n",
    "z_score, p_value, decision = z_test_mean(sample_mean, claimed_mean, sample_std_dev, sample_size, alpha)\n",
    "\n",
    "print(f\"z-score: {z_score}\")\n",
    "print(f\"p-value: {p_value}\")\n",
    "print(f\"z-Decision: {decision}\")"
   ]
  },
  {
   "cell_type": "code",
   "execution_count": null,
   "id": "650cc22f-d0ad-4a71-8588-e8d23f135d47",
   "metadata": {},
   "outputs": [],
   "source": [
    "#null !=  100\n",
    "# alt == 100"
   ]
  },
  {
   "cell_type": "code",
   "execution_count": 124,
   "id": "1164cd03-b3ba-4011-be85-3b27e270916d",
   "metadata": {},
   "outputs": [
    {
     "name": "stdout",
     "output_type": "stream",
     "text": [
      "z-score: -1.9364916731037087\n",
      "p-value: 0.052807511416113506\n",
      "z-Decision: Fail to Reject the null hypothesis: Do not launch the loyality program\n"
     ]
    }
   ],
   "source": [
    "Use any built-In DataSet and generate descriptive stats and various probabilities,"
   ]
  },
  {
   "cell_type": "code",
   "execution_count": null,
   "id": "38b3ab2d-6dbd-4da3-823f-7da47820b99b",
   "metadata": {},
   "outputs": [],
   "source": [
    "# null = 4.7\n",
    "# alt != 4.7"
   ]
  },
  {
   "cell_type": "code",
   "execution_count": 130,
   "id": "f87379c0-d8b0-4d23-b394-f47b62a5bfdf",
   "metadata": {},
   "outputs": [
    {
     "data": {
      "text/plain": [
       "0.0"
      ]
     },
     "execution_count": 130,
     "metadata": {},
     "output_type": "execute_result"
    }
   ],
   "source": [
    "import numpy as np\n",
    "a = ([5,5,5,5,5])\n",
    "std = np.std(a)\n",
    "std"
   ]
  },
  {
   "cell_type": "code",
   "execution_count": 132,
   "id": "f3696a01-8883-49d6-9d3c-5b93864fb4b1",
   "metadata": {},
   "outputs": [],
   "source": [
    "sample_mean = 5\n",
    "claimed_mean = 4.7\n",
    "sample_std_dev = 0\n",
    "sample_size = 5\n",
    "alpha = 0.05"
   ]
  },
  {
   "cell_type": "code",
   "execution_count": 140,
   "id": "364b291e-8a04-42db-a578-e5fb5231190a",
   "metadata": {},
   "outputs": [
    {
     "name": "stdout",
     "output_type": "stream",
     "text": [
      "z-score: 5.556077753235637\n",
      "p-value: 2.7590400852872676e-08\n",
      "z-Decision: Reject the null hypothesis launch the loyality program\n"
     ]
    }
   ],
   "source": [
    "import math\n",
    "from scipy.stats import norm\n",
    "\n",
    "# z-test for one sample mean\n",
    "def z_test_mean(sample_mean, claimed_mean, sample_std_dev, sample_size, alpha):\n",
    "    #calculate the standard error\n",
    "    standard_error = sample_std_dev / math.sqrt(sample_size)\n",
    "\n",
    "#calculate the z-score\n",
    "    z = (sample_mean - claimed_mean) / standard_error\n",
    "\n",
    "#calculate the p-value (one_tailed test)\n",
    "    p_value =  2 * (1 - norm.cdf(abs(z))) #we use 1 - CDF(z) beacuse it's a right-tailed test\n",
    "\n",
    "#Decision based on the level of significance(alpha)\n",
    "    if p_value < alpha:\n",
    "        decision = \"Reject the null hypothesis launch the loyality program\"\n",
    "    else: \n",
    "        decision = \"Fail to Reject the null hypothesis: Do not launch the loyality program\"\n",
    "\n",
    "    return z, p_value,decision\n",
    "\n",
    "sample_mean = 5\n",
    "claimed_mean = 4.7\n",
    "sample_std_dev = 3\n",
    "sample_size = 3087\n",
    "alpha = 0.05\n",
    "\n",
    "# perform the Z-test\n",
    "z_score, p_value, decision = z_test_mean(sample_mean, claimed_mean, sample_std_dev, sample_size, alpha)\n",
    "\n",
    "print(f\"z-score: {z_score}\")\n",
    "print(f\"p-value: {p_value}\")\n",
    "print(f\"z-Decision: {decision}\")"
   ]
  },
  {
   "cell_type": "code",
   "execution_count": null,
   "id": "a28f8ada-ec50-4ca3-9b59-5458e8a57277",
   "metadata": {},
   "outputs": [],
   "source": []
  }
 ],
 "metadata": {
  "kernelspec": {
   "display_name": "Python 3 (ipykernel)",
   "language": "python",
   "name": "python3"
  },
  "language_info": {
   "codemirror_mode": {
    "name": "ipython",
    "version": 3
   },
   "file_extension": ".py",
   "mimetype": "text/x-python",
   "name": "python",
   "nbconvert_exporter": "python",
   "pygments_lexer": "ipython3",
   "version": "3.12.4"
  }
 },
 "nbformat": 4,
 "nbformat_minor": 5
}

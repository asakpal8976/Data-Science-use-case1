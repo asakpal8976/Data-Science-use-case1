{
 "cells": [
  {
   "cell_type": "code",
   "execution_count": 13,
   "id": "ac937d69-f392-48cc-9e98-bb92309f67f4",
   "metadata": {},
   "outputs": [],
   "source": [
    "import pandas as pd\n",
    "import numpy as np"
   ]
  },
  {
   "cell_type": "code",
   "execution_count": 2,
   "id": "4e27a9eb-e4ff-498b-a40d-2987dd0fe2fb",
   "metadata": {},
   "outputs": [],
   "source": [
    "data = [1,2,3,4]\n",
    "index = [0,1,2,3]"
   ]
  },
  {
   "cell_type": "code",
   "execution_count": 17,
   "id": "4e646462-2615-4f1d-85fd-9b44e4d90a0e",
   "metadata": {},
   "outputs": [
    {
     "name": "stdout",
     "output_type": "stream",
     "text": [
      "(2, 3)\n"
     ]
    }
   ],
   "source": [
    "import pandas as pd\n",
    "import numpy as np  \n",
    "\n",
    "df = pd.DataFrame(np.array([[4,6,9],[5,1,3]]))\n",
    "\n",
    "print(df.shape)"
   ]
  },
  {
   "cell_type": "code",
   "execution_count": 5,
   "id": "8a5db9dc-5a6f-424c-9269-4e15e2ca34a8",
   "metadata": {},
   "outputs": [
    {
     "data": {
      "text/plain": [
       "0    1\n",
       "1    2\n",
       "2    3\n",
       "3    4\n",
       "Name: serie, dtype: int64"
      ]
     },
     "execution_count": 5,
     "metadata": {},
     "output_type": "execute_result"
    }
   ],
   "source": [
    "serie = pd.Series(data = data, index = index, name = 'serie' , copy = True)\n",
    "serie"
   ]
  },
  {
   "cell_type": "code",
   "execution_count": 7,
   "id": "b54bb2a5-a556-4356-a0fe-4cfb3759e1e8",
   "metadata": {},
   "outputs": [
    {
     "data": {
      "text/plain": [
       "0    1\n",
       "1    2\n",
       "2    3\n",
       "3    4\n",
       "Name: Serie, dtype: int64"
      ]
     },
     "execution_count": 7,
     "metadata": {},
     "output_type": "execute_result"
    }
   ],
   "source": [
    "serie = pd.Series(data = data, index = index, name = 'Serie', copy = True)\n",
    "serie"
   ]
  },
  {
   "cell_type": "code",
   "execution_count": 9,
   "id": "c7561989-591a-4b2f-8a72-cef6b68cb0b0",
   "metadata": {},
   "outputs": [],
   "source": [
    "data[0] = 'Hi'"
   ]
  },
  {
   "cell_type": "code",
   "execution_count": 17,
   "id": "34194f68-b132-4df4-afb2-cca14af285d2",
   "metadata": {},
   "outputs": [],
   "source": [
    "data[0] = 'Bye'"
   ]
  },
  {
   "cell_type": "code",
   "execution_count": 11,
   "id": "16212486-fbdc-49f4-8cca-815243c9362b",
   "metadata": {},
   "outputs": [
    {
     "data": {
      "text/plain": [
       "0    1\n",
       "1    2\n",
       "2    3\n",
       "3    4\n",
       "Name: Serie, dtype: int64"
      ]
     },
     "execution_count": 11,
     "metadata": {},
     "output_type": "execute_result"
    }
   ],
   "source": [
    "serie"
   ]
  },
  {
   "cell_type": "code",
   "execution_count": 27,
   "id": "c043716f-91b9-499d-b768-bcab621866bf",
   "metadata": {},
   "outputs": [
    {
     "data": {
      "text/plain": [
       "0    1\n",
       "1    2\n",
       "2    3\n",
       "3    4\n",
       "Name: Serie, dtype: int64"
      ]
     },
     "execution_count": 27,
     "metadata": {},
     "output_type": "execute_result"
    }
   ],
   "source": [
    "serie"
   ]
  },
  {
   "cell_type": "code",
   "execution_count": 17,
   "id": "17bf3add-6ef4-435c-80b8-332c54019d9c",
   "metadata": {},
   "outputs": [
    {
     "data": {
      "text/plain": [
       "0    19.00\n",
       "1    22.88\n",
       "2    32.00\n",
       "3    14.00\n",
       "4    77.00\n",
       "dtype: float64"
      ]
     },
     "execution_count": 17,
     "metadata": {},
     "output_type": "execute_result"
    }
   ],
   "source": [
    "#create series \n",
    "age_series = pd.Series([19,22.88,32,14,77])\n",
    "age_series"
   ]
  },
  {
   "cell_type": "code",
   "execution_count": 9,
   "id": "672f226f-fdf5-4359-b634-5912ca64a727",
   "metadata": {},
   "outputs": [
    {
     "data": {
      "text/plain": [
       "0    30\n",
       "1    45\n",
       "2    11\n",
       "3    67\n",
       "4    22\n",
       "dtype: int64"
      ]
     },
     "execution_count": 9,
     "metadata": {},
     "output_type": "execute_result"
    }
   ],
   "source": [
    "age_series_np = pd.Series([30,45,11,67,22])\n",
    "age_series_np"
   ]
  },
  {
   "cell_type": "code",
   "execution_count": 21,
   "id": "1692ff4d-c251-4fb9-b97a-eb0ede00d9be",
   "metadata": {},
   "outputs": [
    {
     "data": {
      "text/plain": [
       "0    30.99\n",
       "1    45.00\n",
       "2    11.00\n",
       "3    67.00\n",
       "4    22.00\n",
       "dtype: float64"
      ]
     },
     "execution_count": 21,
     "metadata": {},
     "output_type": "execute_result"
    }
   ],
   "source": [
    "age_series = pd.Series(np.array([30.99,45,11,67,22]))\n",
    "age_series"
   ]
  },
  {
   "cell_type": "code",
   "execution_count": 19,
   "id": "4e58860f-1ba2-4fb8-83c1-cefd3de6a1e2",
   "metadata": {},
   "outputs": [
    {
     "data": {
      "text/plain": [
       "0     20000\n",
       "2     12000\n",
       "4     43000\n",
       "6     45000\n",
       "8     65000\n",
       "10    24000\n",
       "dtype: int32"
      ]
     },
     "execution_count": 19,
     "metadata": {},
     "output_type": "execute_result"
    }
   ],
   "source": [
    "salary_series_index = pd.Series(\n",
    "    np.array([20000, 12000,43000, 45000,65000,24000]),\n",
    "    index = np.arange(0,12,2)\n",
    ")\n",
    "salary_series_index"
   ]
  },
  {
   "cell_type": "code",
   "execution_count": 41,
   "id": "da45d209-2b04-49b3-a0b8-f5a0bb7a99c9",
   "metadata": {},
   "outputs": [
    {
     "data": {
      "text/plain": [
       "0    11900\n",
       "2    23000\n",
       "4    10000\n",
       "6    40000\n",
       "8    80000\n",
       "dtype: int32"
      ]
     },
     "execution_count": 41,
     "metadata": {},
     "output_type": "execute_result"
    }
   ],
   "source": [
    "salary_series = pd.Series(\n",
    "    np.array([11900, 23000, 10000, 40000,80000]),\n",
    "    index = np.arange(0,10,2)\n",
    ")\n",
    "salary_series"
   ]
  },
  {
   "cell_type": "code",
   "execution_count": 45,
   "id": "bac52385-473c-47b4-9c43-735a9ee8b70d",
   "metadata": {},
   "outputs": [
    {
     "data": {
      "text/plain": [
       "Diary                    23000.75\n",
       "Soft Drink               45000.00\n",
       "Fruits and Vegetables    67000.00\n",
       "dtype: float64"
      ]
     },
     "execution_count": 45,
     "metadata": {},
     "output_type": "execute_result"
    }
   ],
   "source": [
    "#creating series using dictionary\n",
    "prod_dict = {'Diary': 23000.75, 'Soft Drink' : 45000, 'Fruits and Vegetables' : 67000}\n",
    "prod_series = pd.Series(prod_dict)\n",
    "prod_series"
   ]
  },
  {
   "cell_type": "code",
   "execution_count": 53,
   "id": "767354b1-38c8-4328-8c62-e2b961decfa0",
   "metadata": {},
   "outputs": [
    {
     "data": {
      "text/plain": [
       "3"
      ]
     },
     "execution_count": 53,
     "metadata": {},
     "output_type": "execute_result"
    }
   ],
   "source": [
    "# batch1 , batch2, batch3\n",
    "\n",
    "batches = ['batch1','batch2','batch3']\n",
    "yield_ = np.random.randint(1,5,3)\n",
    "yield_\n",
    "\n",
    "series_batch = pd.Series(yield_,batches)\n",
    "series_batch['batch3']"
   ]
  },
  {
   "cell_type": "code",
   "execution_count": 45,
   "id": "9cdb5351-5f78-4a5a-aeb5-6ffdb0a145a5",
   "metadata": {},
   "outputs": [],
   "source": [
    "#series_batch.index = [2,3,4]"
   ]
  },
  {
   "cell_type": "code",
   "execution_count": 55,
   "id": "5fdcbbb7-7abc-4045-bd0c-0e10218308b8",
   "metadata": {},
   "outputs": [
    {
     "data": {
      "text/plain": [
       "batch1    4\n",
       "batch2    1\n",
       "batch3    3\n",
       "dtype: int32"
      ]
     },
     "execution_count": 55,
     "metadata": {},
     "output_type": "execute_result"
    }
   ],
   "source": [
    "series_batch"
   ]
  },
  {
   "cell_type": "code",
   "execution_count": 57,
   "id": "47bfbe3d-5c08-48d9-9cf8-afb01b7a411b",
   "metadata": {},
   "outputs": [
    {
     "data": {
      "text/plain": [
       "array([4, 1, 3])"
      ]
     },
     "execution_count": 57,
     "metadata": {},
     "output_type": "execute_result"
    }
   ],
   "source": [
    "series_batch.values"
   ]
  },
  {
   "cell_type": "code",
   "execution_count": 39,
   "id": "74b06ec3-58fa-4346-8771-3a4a1b89435e",
   "metadata": {},
   "outputs": [
    {
     "data": {
      "text/plain": [
       "Index(['batch1', 'batch2', 'batch3'], dtype='object')"
      ]
     },
     "execution_count": 39,
     "metadata": {},
     "output_type": "execute_result"
    }
   ],
   "source": [
    "series_batch.index"
   ]
  },
  {
   "cell_type": "code",
   "execution_count": 59,
   "id": "0745bf03-81d2-496c-bb20-12e62d0fd7e4",
   "metadata": {},
   "outputs": [],
   "source": [
    "series_batch['batch3'] = 15"
   ]
  },
  {
   "cell_type": "code",
   "execution_count": 61,
   "id": "bbaf8106-cca2-428f-b71f-7df0944753ff",
   "metadata": {},
   "outputs": [
    {
     "data": {
      "text/plain": [
       "batch1     4\n",
       "batch2     1\n",
       "batch3    15\n",
       "dtype: int32"
      ]
     },
     "execution_count": 61,
     "metadata": {},
     "output_type": "execute_result"
    }
   ],
   "source": [
    "series_batch"
   ]
  },
  {
   "cell_type": "code",
   "execution_count": 63,
   "id": "9abc45e9-19d2-43df-8fcd-92cc2b57dc02",
   "metadata": {},
   "outputs": [
    {
     "name": "stderr",
     "output_type": "stream",
     "text": [
      "C:\\Users\\Raksha Chavan\\AppData\\Local\\Temp\\ipykernel_20424\\1449356500.py:1: FutureWarning: Setting an item of incompatible dtype is deprecated and will raise an error in a future version of pandas. Value 'hi' has dtype incompatible with int32, please explicitly cast to a compatible dtype first.\n",
      "  series_batch['batch1'] = 'hi'\n"
     ]
    },
    {
     "data": {
      "text/plain": [
       "batch1    hi\n",
       "batch2     1\n",
       "batch3    15\n",
       "dtype: object"
      ]
     },
     "execution_count": 63,
     "metadata": {},
     "output_type": "execute_result"
    }
   ],
   "source": [
    "series_batch['batch1'] = 'hi'\n",
    "series_batch"
   ]
  },
  {
   "cell_type": "code",
   "execution_count": 65,
   "id": "e782af62-9829-463d-a9ec-3d597f1416f3",
   "metadata": {},
   "outputs": [
    {
     "data": {
      "text/plain": [
       "batch1    HI\n",
       "batch2     1\n",
       "batch3    15\n",
       "dtype: object"
      ]
     },
     "execution_count": 65,
     "metadata": {},
     "output_type": "execute_result"
    }
   ],
   "source": [
    "series_batch['batch1'] = series_batch['batch1'].upper()\n",
    "series_batch"
   ]
  },
  {
   "cell_type": "code",
   "execution_count": 69,
   "id": "a049e14e-499c-4926-8944-1e8be91b94bc",
   "metadata": {},
   "outputs": [
    {
     "name": "stdout",
     "output_type": "stream",
     "text": [
      "0    A101\n",
      "1    A102\n",
      "2    A103\n",
      "3    B101\n",
      "dtype: object\n"
     ]
    }
   ],
   "source": [
    "#creating simple array\n",
    "emp_array = np.array(['A101', 'A102', 'A103', 'B101', 'B102', 'B103', 'C101', 'C102', 'C104'])\n",
    "emp_id_series = pd.Series(emp_array)\n",
    "print(emp_id_series[0:4])"
   ]
  },
  {
   "cell_type": "code",
   "execution_count": 87,
   "id": "1f59a394-9c70-4469-bf04-5e0adfd3dac7",
   "metadata": {},
   "outputs": [
    {
     "name": "stdout",
     "output_type": "stream",
     "text": [
      "4    B102\n",
      "5    B103\n",
      "6    C101\n",
      "7    C102\n",
      "8    C104\n",
      "dtype: object\n"
     ]
    }
   ],
   "source": [
    "emp_array = np.array(['A101', 'A102', 'A103', 'B101', 'B102', 'B103', 'C101', 'C102', 'C104'])\n",
    "emp_id_series = pd.Series(emp_array)\n",
    "print(emp_id_series[-5:])"
   ]
  },
  {
   "cell_type": "code",
   "execution_count": 89,
   "id": "8803f1b6-b476-4c07-927a-5c8fb41f502f",
   "metadata": {},
   "outputs": [
    {
     "name": "stdout",
     "output_type": "stream",
     "text": [
      "X    [Maths, Science, English]\n",
      "Y             [Maths, Science]\n",
      "Z                      science\n",
      "dtype: object\n",
      "\n",
      " ['Maths', 'Science', 'English']\n"
     ]
    }
   ],
   "source": [
    "#create a dictionary\n",
    "classes_dict = { \"X\" : [\"Maths\", \"Science\", \"English\"],\n",
    "                \"Y\" : [\"Maths\", \"Science\"],\n",
    "                \"Z\" : \"science\" }\n",
    "\n",
    "classes_series = pd.Series(classes_dict)\n",
    "print(classes_series)\n",
    "\n",
    "print(\"\\n\", classes_series['X'])"
   ]
  },
  {
   "cell_type": "code",
   "execution_count": 95,
   "id": "3bfb42ad-f0fd-47ec-b415-2127028afe8e",
   "metadata": {},
   "outputs": [
    {
     "name": "stdout",
     "output_type": "stream",
     "text": [
      "\n",
      " X    [Maths, Science, English]\n",
      "Y             [Maths, Science]\n",
      "dtype: object\n"
     ]
    }
   ],
   "source": [
    "classes_dict = { \"X\" : [\"Maths\", \"Science\", \"English\"],\n",
    "                \"Y\" : [\"Maths\", \"Science\"],\n",
    "                \"Z\" : \"science\" }\n",
    "\n",
    "classes_series = pd.Series(classes_dict)\n",
    "#print(classes_series)\n",
    "\n",
    "print(\"\\n\", classes_series[['X','Y']])"
   ]
  },
  {
   "cell_type": "code",
   "execution_count": 103,
   "id": "a43b0fc5-984b-4ed3-8511-664900f178be",
   "metadata": {},
   "outputs": [
    {
     "data": {
      "text/plain": [
       "Sophia     450\n",
       "Mia        313\n",
       "William    414\n",
       "dtype: int32"
      ]
     },
     "execution_count": 103,
     "metadata": {},
     "output_type": "execute_result"
    }
   ],
   "source": [
    "# Filter the values\n",
    "student_series = pd.Series(np.array([450,129,313,414,215,116]),\n",
    "    index = ['Sophia', 'Emma', 'Mia', 'William', 'Lily', 'Grace'])\n",
    "student_series[student_series > 300]"
   ]
  },
  {
   "cell_type": "code",
   "execution_count": 43,
   "id": "f92a9756-9f96-442b-99a9-1eda8ac161cd",
   "metadata": {},
   "outputs": [
    {
     "data": {
      "text/plain": [
       "0    2400\n",
       "1    7092\n",
       "2    4512\n",
       "dtype: int32"
      ]
     },
     "execution_count": 43,
     "metadata": {},
     "output_type": "execute_result"
    }
   ],
   "source": [
    "#creating simple array\n",
    "sales_array = np.array([1200, 3546, 2256])\n",
    "sales_series = pd.Series(sales_array)\n",
    "sales_series * 2"
   ]
  },
  {
   "cell_type": "code",
   "execution_count": 109,
   "id": "c42b35b6-9dcd-4a1d-8ff7-80919ab60793",
   "metadata": {},
   "outputs": [
    {
     "name": "stdout",
     "output_type": "stream",
     "text": [
      "0    276\n",
      "1    946\n",
      "2    901\n",
      "dtype: int64\n"
     ]
    }
   ],
   "source": [
    "# create 2 series\n",
    "MRP_series = pd.Series([12,22,17])\n",
    "sales_series = pd.Series([23,43,53])\n",
    "\n",
    "#multiply both the series\n",
    "Total_amount_series = MRP_series.multiply(sales_series)\n",
    "print(Total_amount_series)"
   ]
  },
  {
   "cell_type": "code",
   "execution_count": 71,
   "id": "76bb64a8-3310-4f42-97cd-ae9d50ac00f2",
   "metadata": {},
   "outputs": [
    {
     "name": "stdout",
     "output_type": "stream",
     "text": [
      "0    276\n",
      "1    946\n",
      "2    901\n",
      "dtype: int64\n"
     ]
    }
   ],
   "source": [
    "MRP_series = pd.Series([12,22,17])\n",
    "sales_series = pd.Series([23,43,53])\n",
    "\n",
    "#multiply both the series\n",
    "Total_amount_series = MRP_series * sales_series\n",
    "print(Total_amount_series)"
   ]
  },
  {
   "cell_type": "code",
   "execution_count": 111,
   "id": "2222fb4e-edc5-4fc6-a498-eb366b2c970c",
   "metadata": {},
   "outputs": [
    {
     "data": {
      "text/plain": [
       "0    155\n",
       "1    179\n",
       "2    149\n",
       "dtype: int32"
      ]
     },
     "execution_count": 111,
     "metadata": {},
     "output_type": "execute_result"
    }
   ],
   "source": [
    "# Addition of 2 series\n",
    "english_array = np.array([67,88,78])\n",
    "english_series = pd.Series(english_array)\n",
    "\n",
    "Maths_array = np.array([88,91,71])\n",
    "Maths_series = pd.Series(Maths_array)\n",
    "\n",
    "total_marks = english_series + Maths_series\n",
    "total_marks"
   ]
  },
  {
   "cell_type": "code",
   "execution_count": 113,
   "id": "c41e51fb-b287-4334-a0cc-edbc0b19ddb5",
   "metadata": {},
   "outputs": [
    {
     "data": {
      "text/plain": [
       "0    155.0\n",
       "1    179.0\n",
       "2      NaN\n",
       "dtype: float64"
      ]
     },
     "execution_count": 113,
     "metadata": {},
     "output_type": "execute_result"
    }
   ],
   "source": [
    "english_array = np.array([67,88,78])\n",
    "english_series = pd.Series(english_array)\n",
    "\n",
    "Maths_array = np.array([88,91])\n",
    "Maths_series = pd.Series(Maths_array)\n",
    "\n",
    "total_marks = english_series + Maths_series\n",
    "total_marks"
   ]
  },
  {
   "cell_type": "markdown",
   "id": "52912bd4-5c63-41e5-a9d6-d9839ec2acc9",
   "metadata": {},
   "source": [
    "**Ranking & Sorting**"
   ]
  },
  {
   "cell_type": "code",
   "execution_count": null,
   "id": "44386d83-0dad-4d39-833a-80e81a311f10",
   "metadata": {},
   "outputs": [],
   "source": []
  }
 ],
 "metadata": {
  "kernelspec": {
   "display_name": "Python 3 (ipykernel)",
   "language": "python",
   "name": "python3"
  },
  "language_info": {
   "codemirror_mode": {
    "name": "ipython",
    "version": 3
   },
   "file_extension": ".py",
   "mimetype": "text/x-python",
   "name": "python",
   "nbconvert_exporter": "python",
   "pygments_lexer": "ipython3",
   "version": "3.12.4"
  }
 },
 "nbformat": 4,
 "nbformat_minor": 5
}
